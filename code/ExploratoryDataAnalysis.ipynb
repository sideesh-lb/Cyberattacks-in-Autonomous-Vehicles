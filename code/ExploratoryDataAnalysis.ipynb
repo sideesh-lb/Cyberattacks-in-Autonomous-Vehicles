{
 "cells": [
  {
   "cell_type": "markdown",
   "id": "a148432e-5abc-4a02-a6d1-55d158c806d9",
   "metadata": {},
   "source": [
    "**Exploratory Data Analysis**"
   ]
  },
  {
   "cell_type": "markdown",
   "id": "82c609c7-3381-4980-b744-b43dc6ab6a00",
   "metadata": {},
   "source": [
    "Data Import"
   ]
  },
  {
   "cell_type": "code",
   "execution_count": 1,
   "id": "358972a0-72d6-44a9-87b5-fcf70ba31240",
   "metadata": {},
   "outputs": [],
   "source": [
    "import pandas as pd\n",
    "import matplotlib.pyplot as plt"
   ]
  },
  {
   "cell_type": "code",
   "execution_count": 11,
   "id": "7c2a31e3-e7f8-4282-a5fa-8467f0a5c6c5",
   "metadata": {},
   "outputs": [],
   "source": [
    "df = pd.read_csv(\"dataset/data.csv\")"
   ]
  },
  {
   "cell_type": "markdown",
   "id": "86f6f632-38d7-4802-97f8-83fec7adf11a",
   "metadata": {},
   "source": [
    " "
   ]
  },
  {
   "cell_type": "markdown",
   "id": "475958c8-11ad-413f-88d1-58d96e3be9dd",
   "metadata": {},
   "source": [
    "Feature Extraction"
   ]
  },
  {
   "cell_type": "code",
   "execution_count": 12,
   "id": "78daed12-5352-4966-81a7-ddf25f851695",
   "metadata": {},
   "outputs": [],
   "source": [
    "df.columns = [\"Sno\", \"timeStamp\", \"CAN\", \"noOfData\", \"dataPoints\", \"Flag\"]"
   ]
  },
  {
   "cell_type": "code",
   "execution_count": 13,
   "id": "474f9ef1-bc61-4eb3-8a54-c0cb61e3c1f8",
   "metadata": {},
   "outputs": [
    {
     "name": "stdout",
     "output_type": "stream",
     "text": [
      "8    334978\n",
      "5     13634\n",
      "2      2660\n",
      "Name: noOfData, dtype: int64\n"
     ]
    }
   ],
   "source": [
    "print(df['noOfData'].value_counts())"
   ]
  },
  {
   "cell_type": "code",
   "execution_count": 14,
   "id": "a1cb5332-5aaa-4243-b382-ac1ce8475061",
   "metadata": {},
   "outputs": [],
   "source": [
    "df = df.drop('Sno', axis=1)"
   ]
  },
  {
   "cell_type": "code",
   "execution_count": 15,
   "id": "b4294f4a-cee3-45d6-ae21-b336541ce989",
   "metadata": {},
   "outputs": [
    {
     "data": {
      "text/html": [
       "<div>\n",
       "<style scoped>\n",
       "    .dataframe tbody tr th:only-of-type {\n",
       "        vertical-align: middle;\n",
       "    }\n",
       "\n",
       "    .dataframe tbody tr th {\n",
       "        vertical-align: top;\n",
       "    }\n",
       "\n",
       "    .dataframe thead th {\n",
       "        text-align: right;\n",
       "    }\n",
       "</style>\n",
       "<table border=\"1\" class=\"dataframe\">\n",
       "  <thead>\n",
       "    <tr style=\"text-align: right;\">\n",
       "      <th></th>\n",
       "      <th>timeStamp</th>\n",
       "      <th>CAN</th>\n",
       "      <th>noOfData</th>\n",
       "      <th>dataPoints</th>\n",
       "      <th>Flag</th>\n",
       "    </tr>\n",
       "  </thead>\n",
       "  <tbody>\n",
       "    <tr>\n",
       "      <th>0</th>\n",
       "      <td>1.513926e+09</td>\n",
       "      <td>043F</td>\n",
       "      <td>8</td>\n",
       "      <td>00 40 60 FF 65 B4 08 00</td>\n",
       "      <td>R</td>\n",
       "    </tr>\n",
       "    <tr>\n",
       "      <th>1</th>\n",
       "      <td>1.513926e+09</td>\n",
       "      <td>018F</td>\n",
       "      <td>8</td>\n",
       "      <td>FE 62 00 00 00 3C 00 00</td>\n",
       "      <td>R</td>\n",
       "    </tr>\n",
       "    <tr>\n",
       "      <th>2</th>\n",
       "      <td>1.513926e+09</td>\n",
       "      <td>0260</td>\n",
       "      <td>8</td>\n",
       "      <td>1B 24 24 30 FF 8F 6D 3A</td>\n",
       "      <td>R</td>\n",
       "    </tr>\n",
       "    <tr>\n",
       "      <th>3</th>\n",
       "      <td>1.513926e+09</td>\n",
       "      <td>02A0</td>\n",
       "      <td>8</td>\n",
       "      <td>64 00 83 1D 16 05 E3 00</td>\n",
       "      <td>R</td>\n",
       "    </tr>\n",
       "    <tr>\n",
       "      <th>4</th>\n",
       "      <td>1.513926e+09</td>\n",
       "      <td>0316</td>\n",
       "      <td>8</td>\n",
       "      <td>45 24 9C 09 24 26 00 76</td>\n",
       "      <td>R</td>\n",
       "    </tr>\n",
       "  </tbody>\n",
       "</table>\n",
       "</div>"
      ],
      "text/plain": [
       "      timeStamp   CAN  noOfData               dataPoints Flag\n",
       "0  1.513926e+09  043F         8  00 40 60 FF 65 B4 08 00    R\n",
       "1  1.513926e+09  018F         8  FE 62 00 00 00 3C 00 00    R\n",
       "2  1.513926e+09  0260         8  1B 24 24 30 FF 8F 6D 3A    R\n",
       "3  1.513926e+09  02A0         8  64 00 83 1D 16 05 E3 00    R\n",
       "4  1.513926e+09  0316         8  45 24 9C 09 24 26 00 76    R"
      ]
     },
     "execution_count": 15,
     "metadata": {},
     "output_type": "execute_result"
    }
   ],
   "source": [
    "df.head()"
   ]
  },
  {
   "cell_type": "markdown",
   "id": "875c0c5a-526c-488d-b3a2-d28b736ef5f4",
   "metadata": {},
   "source": [
    " "
   ]
  },
  {
   "cell_type": "markdown",
   "id": "4f0dc613-44fd-45b8-8141-f05393c874ed",
   "metadata": {},
   "source": [
    "Target Extraction"
   ]
  },
  {
   "cell_type": "code",
   "execution_count": 16,
   "id": "ace73cca-587e-4cb3-bebc-6389661fcab7",
   "metadata": {},
   "outputs": [
    {
     "name": "stdout",
     "output_type": "stream",
     "text": [
      "R    0.786672\n",
      "T    0.213328\n",
      "Name: Flag, dtype: float64\n"
     ]
    }
   ],
   "source": [
    "ratio_of_flag = df['Flag'].value_counts(normalize=True)\n",
    "print(ratio_of_flag)"
   ]
  },
  {
   "cell_type": "code",
   "execution_count": 17,
   "id": "dd9758ec-4e4f-481a-8672-deab0ddbadd9",
   "metadata": {},
   "outputs": [],
   "source": [
    "df[['Data1', 'Data2', 'Data3', 'Data4', 'Data5', 'Data6', 'Data7', 'Data8']] = df['dataPoints'].str.split(' ', expand=True, n=7)"
   ]
  },
  {
   "cell_type": "code",
   "execution_count": 18,
   "id": "2f4d9be2-c195-40ed-9c93-6c614ed5d582",
   "metadata": {},
   "outputs": [
    {
     "data": {
      "text/html": [
       "<div>\n",
       "<style scoped>\n",
       "    .dataframe tbody tr th:only-of-type {\n",
       "        vertical-align: middle;\n",
       "    }\n",
       "\n",
       "    .dataframe tbody tr th {\n",
       "        vertical-align: top;\n",
       "    }\n",
       "\n",
       "    .dataframe thead th {\n",
       "        text-align: right;\n",
       "    }\n",
       "</style>\n",
       "<table border=\"1\" class=\"dataframe\">\n",
       "  <thead>\n",
       "    <tr style=\"text-align: right;\">\n",
       "      <th></th>\n",
       "      <th>timeStamp</th>\n",
       "      <th>CAN</th>\n",
       "      <th>noOfData</th>\n",
       "      <th>dataPoints</th>\n",
       "      <th>Flag</th>\n",
       "      <th>Data1</th>\n",
       "      <th>Data2</th>\n",
       "      <th>Data3</th>\n",
       "      <th>Data4</th>\n",
       "      <th>Data5</th>\n",
       "      <th>Data6</th>\n",
       "      <th>Data7</th>\n",
       "      <th>Data8</th>\n",
       "    </tr>\n",
       "  </thead>\n",
       "  <tbody>\n",
       "    <tr>\n",
       "      <th>0</th>\n",
       "      <td>1.513926e+09</td>\n",
       "      <td>043F</td>\n",
       "      <td>8</td>\n",
       "      <td>00 40 60 FF 65 B4 08 00</td>\n",
       "      <td>R</td>\n",
       "      <td>00</td>\n",
       "      <td>40</td>\n",
       "      <td>60</td>\n",
       "      <td>FF</td>\n",
       "      <td>65</td>\n",
       "      <td>B4</td>\n",
       "      <td>08</td>\n",
       "      <td>00</td>\n",
       "    </tr>\n",
       "    <tr>\n",
       "      <th>1</th>\n",
       "      <td>1.513926e+09</td>\n",
       "      <td>018F</td>\n",
       "      <td>8</td>\n",
       "      <td>FE 62 00 00 00 3C 00 00</td>\n",
       "      <td>R</td>\n",
       "      <td>FE</td>\n",
       "      <td>62</td>\n",
       "      <td>00</td>\n",
       "      <td>00</td>\n",
       "      <td>00</td>\n",
       "      <td>3C</td>\n",
       "      <td>00</td>\n",
       "      <td>00</td>\n",
       "    </tr>\n",
       "    <tr>\n",
       "      <th>2</th>\n",
       "      <td>1.513926e+09</td>\n",
       "      <td>0260</td>\n",
       "      <td>8</td>\n",
       "      <td>1B 24 24 30 FF 8F 6D 3A</td>\n",
       "      <td>R</td>\n",
       "      <td>1B</td>\n",
       "      <td>24</td>\n",
       "      <td>24</td>\n",
       "      <td>30</td>\n",
       "      <td>FF</td>\n",
       "      <td>8F</td>\n",
       "      <td>6D</td>\n",
       "      <td>3A</td>\n",
       "    </tr>\n",
       "    <tr>\n",
       "      <th>3</th>\n",
       "      <td>1.513926e+09</td>\n",
       "      <td>02A0</td>\n",
       "      <td>8</td>\n",
       "      <td>64 00 83 1D 16 05 E3 00</td>\n",
       "      <td>R</td>\n",
       "      <td>64</td>\n",
       "      <td>00</td>\n",
       "      <td>83</td>\n",
       "      <td>1D</td>\n",
       "      <td>16</td>\n",
       "      <td>05</td>\n",
       "      <td>E3</td>\n",
       "      <td>00</td>\n",
       "    </tr>\n",
       "    <tr>\n",
       "      <th>4</th>\n",
       "      <td>1.513926e+09</td>\n",
       "      <td>0316</td>\n",
       "      <td>8</td>\n",
       "      <td>45 24 9C 09 24 26 00 76</td>\n",
       "      <td>R</td>\n",
       "      <td>45</td>\n",
       "      <td>24</td>\n",
       "      <td>9C</td>\n",
       "      <td>09</td>\n",
       "      <td>24</td>\n",
       "      <td>26</td>\n",
       "      <td>00</td>\n",
       "      <td>76</td>\n",
       "    </tr>\n",
       "  </tbody>\n",
       "</table>\n",
       "</div>"
      ],
      "text/plain": [
       "      timeStamp   CAN  noOfData               dataPoints Flag Data1 Data2  \\\n",
       "0  1.513926e+09  043F         8  00 40 60 FF 65 B4 08 00    R    00    40   \n",
       "1  1.513926e+09  018F         8  FE 62 00 00 00 3C 00 00    R    FE    62   \n",
       "2  1.513926e+09  0260         8  1B 24 24 30 FF 8F 6D 3A    R    1B    24   \n",
       "3  1.513926e+09  02A0         8  64 00 83 1D 16 05 E3 00    R    64    00   \n",
       "4  1.513926e+09  0316         8  45 24 9C 09 24 26 00 76    R    45    24   \n",
       "\n",
       "  Data3 Data4 Data5 Data6 Data7 Data8  \n",
       "0    60    FF    65    B4    08    00  \n",
       "1    00    00    00    3C    00    00  \n",
       "2    24    30    FF    8F    6D    3A  \n",
       "3    83    1D    16    05    E3    00  \n",
       "4    9C    09    24    26    00    76  "
      ]
     },
     "execution_count": 18,
     "metadata": {},
     "output_type": "execute_result"
    }
   ],
   "source": [
    "df.head()"
   ]
  },
  {
   "cell_type": "code",
   "execution_count": 19,
   "id": "c9a1b44e-ec2f-43c1-9927-36266d9e8fb9",
   "metadata": {},
   "outputs": [
    {
     "data": {
      "text/html": [
       "<div>\n",
       "<style scoped>\n",
       "    .dataframe tbody tr th:only-of-type {\n",
       "        vertical-align: middle;\n",
       "    }\n",
       "\n",
       "    .dataframe tbody tr th {\n",
       "        vertical-align: top;\n",
       "    }\n",
       "\n",
       "    .dataframe thead th {\n",
       "        text-align: right;\n",
       "    }\n",
       "</style>\n",
       "<table border=\"1\" class=\"dataframe\">\n",
       "  <thead>\n",
       "    <tr style=\"text-align: right;\">\n",
       "      <th></th>\n",
       "      <th>timeStamp</th>\n",
       "      <th>CAN</th>\n",
       "      <th>noOfData</th>\n",
       "      <th>Data1</th>\n",
       "      <th>Data2</th>\n",
       "      <th>Data3</th>\n",
       "      <th>Data4</th>\n",
       "      <th>Data5</th>\n",
       "      <th>Data6</th>\n",
       "      <th>Data7</th>\n",
       "      <th>Data8</th>\n",
       "      <th>Flag</th>\n",
       "    </tr>\n",
       "  </thead>\n",
       "  <tbody>\n",
       "    <tr>\n",
       "      <th>0</th>\n",
       "      <td>1.513926e+09</td>\n",
       "      <td>043F</td>\n",
       "      <td>8</td>\n",
       "      <td>00</td>\n",
       "      <td>40</td>\n",
       "      <td>60</td>\n",
       "      <td>FF</td>\n",
       "      <td>65</td>\n",
       "      <td>B4</td>\n",
       "      <td>08</td>\n",
       "      <td>00</td>\n",
       "      <td>R</td>\n",
       "    </tr>\n",
       "    <tr>\n",
       "      <th>1</th>\n",
       "      <td>1.513926e+09</td>\n",
       "      <td>018F</td>\n",
       "      <td>8</td>\n",
       "      <td>FE</td>\n",
       "      <td>62</td>\n",
       "      <td>00</td>\n",
       "      <td>00</td>\n",
       "      <td>00</td>\n",
       "      <td>3C</td>\n",
       "      <td>00</td>\n",
       "      <td>00</td>\n",
       "      <td>R</td>\n",
       "    </tr>\n",
       "    <tr>\n",
       "      <th>2</th>\n",
       "      <td>1.513926e+09</td>\n",
       "      <td>0260</td>\n",
       "      <td>8</td>\n",
       "      <td>1B</td>\n",
       "      <td>24</td>\n",
       "      <td>24</td>\n",
       "      <td>30</td>\n",
       "      <td>FF</td>\n",
       "      <td>8F</td>\n",
       "      <td>6D</td>\n",
       "      <td>3A</td>\n",
       "      <td>R</td>\n",
       "    </tr>\n",
       "    <tr>\n",
       "      <th>3</th>\n",
       "      <td>1.513926e+09</td>\n",
       "      <td>02A0</td>\n",
       "      <td>8</td>\n",
       "      <td>64</td>\n",
       "      <td>00</td>\n",
       "      <td>83</td>\n",
       "      <td>1D</td>\n",
       "      <td>16</td>\n",
       "      <td>05</td>\n",
       "      <td>E3</td>\n",
       "      <td>00</td>\n",
       "      <td>R</td>\n",
       "    </tr>\n",
       "    <tr>\n",
       "      <th>4</th>\n",
       "      <td>1.513926e+09</td>\n",
       "      <td>0316</td>\n",
       "      <td>8</td>\n",
       "      <td>45</td>\n",
       "      <td>24</td>\n",
       "      <td>9C</td>\n",
       "      <td>09</td>\n",
       "      <td>24</td>\n",
       "      <td>26</td>\n",
       "      <td>00</td>\n",
       "      <td>76</td>\n",
       "      <td>R</td>\n",
       "    </tr>\n",
       "    <tr>\n",
       "      <th>5</th>\n",
       "      <td>1.513926e+09</td>\n",
       "      <td>0329</td>\n",
       "      <td>8</td>\n",
       "      <td>87</td>\n",
       "      <td>B3</td>\n",
       "      <td>7E</td>\n",
       "      <td>14</td>\n",
       "      <td>11</td>\n",
       "      <td>20</td>\n",
       "      <td>00</td>\n",
       "      <td>14</td>\n",
       "      <td>R</td>\n",
       "    </tr>\n",
       "  </tbody>\n",
       "</table>\n",
       "</div>"
      ],
      "text/plain": [
       "      timeStamp   CAN  noOfData Data1 Data2 Data3 Data4 Data5 Data6 Data7  \\\n",
       "0  1.513926e+09  043F         8    00    40    60    FF    65    B4    08   \n",
       "1  1.513926e+09  018F         8    FE    62    00    00    00    3C    00   \n",
       "2  1.513926e+09  0260         8    1B    24    24    30    FF    8F    6D   \n",
       "3  1.513926e+09  02A0         8    64    00    83    1D    16    05    E3   \n",
       "4  1.513926e+09  0316         8    45    24    9C    09    24    26    00   \n",
       "5  1.513926e+09  0329         8    87    B3    7E    14    11    20    00   \n",
       "\n",
       "  Data8 Flag  \n",
       "0    00    R  \n",
       "1    00    R  \n",
       "2    3A    R  \n",
       "3    00    R  \n",
       "4    76    R  \n",
       "5    14    R  "
      ]
     },
     "execution_count": 19,
     "metadata": {},
     "output_type": "execute_result"
    }
   ],
   "source": [
    "col = df.pop('Flag')\n",
    "df.pop('dataPoints')\n",
    "df.insert(len(df.columns), 'Flag', col)\n",
    "df.head(6)"
   ]
  },
  {
   "cell_type": "code",
   "execution_count": 20,
   "id": "1637190f-304a-4594-a6c6-b49de8e0ac76",
   "metadata": {},
   "outputs": [
    {
     "name": "stdout",
     "output_type": "stream",
     "text": [
      "object\n"
     ]
    }
   ],
   "source": [
    "df['noOfData'] = df['noOfData'].apply(lambda x: str(x))\n",
    "print(df['noOfData'].dtype)"
   ]
  },
  {
   "cell_type": "markdown",
   "id": "84fdfa5c-799e-4184-95be-f95905114bc1",
   "metadata": {},
   "source": [
    " "
   ]
  },
  {
   "cell_type": "markdown",
   "id": "ee369998-c5c9-4dea-9d8a-4f33d6a8e827",
   "metadata": {},
   "source": [
    "Contigency Table b/w Flag and DIC (No of Datapoints)"
   ]
  },
  {
   "cell_type": "code",
   "execution_count": 21,
   "id": "a5b46447-9fd5-4aff-adec-56cd2797ccb6",
   "metadata": {},
   "outputs": [],
   "source": [
    "cont = pd.crosstab(df['noOfData'], df['Flag'])"
   ]
  },
  {
   "cell_type": "code",
   "execution_count": 22,
   "id": "713ea915-9afd-4a1d-a94a-04a8a5aea322",
   "metadata": {},
   "outputs": [
    {
     "data": {
      "text/html": [
       "<div>\n",
       "<style scoped>\n",
       "    .dataframe tbody tr th:only-of-type {\n",
       "        vertical-align: middle;\n",
       "    }\n",
       "\n",
       "    .dataframe tbody tr th {\n",
       "        vertical-align: top;\n",
       "    }\n",
       "\n",
       "    .dataframe thead th {\n",
       "        text-align: right;\n",
       "    }\n",
       "</style>\n",
       "<table border=\"1\" class=\"dataframe\">\n",
       "  <thead>\n",
       "    <tr style=\"text-align: right;\">\n",
       "      <th>Flag</th>\n",
       "      <th>R</th>\n",
       "      <th>T</th>\n",
       "    </tr>\n",
       "    <tr>\n",
       "      <th>noOfData</th>\n",
       "      <th></th>\n",
       "      <th></th>\n",
       "    </tr>\n",
       "  </thead>\n",
       "  <tbody>\n",
       "    <tr>\n",
       "      <th>2</th>\n",
       "      <td>2660</td>\n",
       "      <td>0</td>\n",
       "    </tr>\n",
       "    <tr>\n",
       "      <th>5</th>\n",
       "      <td>13634</td>\n",
       "      <td>0</td>\n",
       "    </tr>\n",
       "    <tr>\n",
       "      <th>8</th>\n",
       "      <td>260042</td>\n",
       "      <td>74936</td>\n",
       "    </tr>\n",
       "  </tbody>\n",
       "</table>\n",
       "</div>"
      ],
      "text/plain": [
       "Flag           R      T\n",
       "noOfData               \n",
       "2           2660      0\n",
       "5          13634      0\n",
       "8         260042  74936"
      ]
     },
     "execution_count": 22,
     "metadata": {},
     "output_type": "execute_result"
    }
   ],
   "source": [
    "cont"
   ]
  },
  {
   "cell_type": "code",
   "execution_count": 23,
   "id": "8c508444-5b4e-4782-a1d5-babe50dbb5b8",
   "metadata": {},
   "outputs": [
    {
     "name": "stdout",
     "output_type": "stream",
     "text": [
      "timeStamp    float64\n",
      "CAN           object\n",
      "noOfData      object\n",
      "Data1         object\n",
      "Data2         object\n",
      "Data3         object\n",
      "Data4         object\n",
      "Data5         object\n",
      "Data6         object\n",
      "Data7         object\n",
      "Data8         object\n",
      "Flag          object\n",
      "dtype: object\n"
     ]
    }
   ],
   "source": [
    "print(df.dtypes)"
   ]
  },
  {
   "cell_type": "markdown",
   "id": "a7293cdf-dc2c-4fef-8893-d1f89401628a",
   "metadata": {},
   "source": [
    " "
   ]
  },
  {
   "cell_type": "markdown",
   "id": "ff76c97d-a687-496c-aef7-60913f7b990b",
   "metadata": {},
   "source": [
    "Drop Irrelevant Data"
   ]
  },
  {
   "cell_type": "code",
   "execution_count": 24,
   "id": "3b5f8840-8af6-4b32-93c5-5700e7ae3a60",
   "metadata": {},
   "outputs": [],
   "source": [
    "df = df.dropna()"
   ]
  },
  {
   "cell_type": "code",
   "execution_count": 25,
   "id": "e9d3a9a4-6124-4484-a2e9-d9d4e8883edf",
   "metadata": {},
   "outputs": [],
   "source": [
    "cont = pd.crosstab(df['noOfData'], df['Flag'])"
   ]
  },
  {
   "cell_type": "code",
   "execution_count": 26,
   "id": "879d9858-add5-4c93-988f-82a6d34e6a03",
   "metadata": {},
   "outputs": [
    {
     "data": {
      "text/html": [
       "<div>\n",
       "<style scoped>\n",
       "    .dataframe tbody tr th:only-of-type {\n",
       "        vertical-align: middle;\n",
       "    }\n",
       "\n",
       "    .dataframe tbody tr th {\n",
       "        vertical-align: top;\n",
       "    }\n",
       "\n",
       "    .dataframe thead th {\n",
       "        text-align: right;\n",
       "    }\n",
       "</style>\n",
       "<table border=\"1\" class=\"dataframe\">\n",
       "  <thead>\n",
       "    <tr style=\"text-align: right;\">\n",
       "      <th>Flag</th>\n",
       "      <th>R</th>\n",
       "      <th>T</th>\n",
       "    </tr>\n",
       "    <tr>\n",
       "      <th>noOfData</th>\n",
       "      <th></th>\n",
       "      <th></th>\n",
       "    </tr>\n",
       "  </thead>\n",
       "  <tbody>\n",
       "    <tr>\n",
       "      <th>8</th>\n",
       "      <td>260042</td>\n",
       "      <td>74936</td>\n",
       "    </tr>\n",
       "  </tbody>\n",
       "</table>\n",
       "</div>"
      ],
      "text/plain": [
       "Flag           R      T\n",
       "noOfData               \n",
       "8         260042  74936"
      ]
     },
     "execution_count": 26,
     "metadata": {},
     "output_type": "execute_result"
    }
   ],
   "source": [
    "cont"
   ]
  },
  {
   "cell_type": "markdown",
   "id": "41156af3-d5ab-483a-a965-a3287ea7737d",
   "metadata": {},
   "source": [
    " "
   ]
  },
  {
   "cell_type": "markdown",
   "id": "d5945c03-bf87-4414-9208-70baa01230d2",
   "metadata": {},
   "source": [
    "Analysis of Flag Variable Distribution"
   ]
  },
  {
   "cell_type": "code",
   "execution_count": 27,
   "id": "52053bd3-7dc8-4dbd-8494-d6ff71524529",
   "metadata": {},
   "outputs": [
    {
     "name": "stdout",
     "output_type": "stream",
     "text": [
      "R    0.776296\n",
      "T    0.223704\n",
      "Name: Flag, dtype: float64\n"
     ]
    }
   ],
   "source": [
    "ratio_of_flag = df['Flag'].value_counts(normalize=True)\n",
    "print(ratio_of_flag)"
   ]
  },
  {
   "cell_type": "code",
   "execution_count": 28,
   "id": "0433e5cd-a3ea-483e-95a5-e9041a5a44db",
   "metadata": {},
   "outputs": [
    {
     "data": {
      "image/png": "[encoded data removed]",
      "text/plain": [
       "<Figure size 640x480 with 1 Axes>"
      ]
     },
     "metadata": {},
     "output_type": "display_data"
    }
   ],
   "source": [
    "counts = df['Flag'].value_counts()\n",
    "plt.pie(counts, labels=counts.index, autopct='%1.1f%%')\n",
    "plt.title('Flag Variable Frequencies')\n",
    "plt.show()"
   ]
  },
  {
   "cell_type": "code",
   "execution_count": 29,
   "id": "504525a9-2e4f-4e4a-a61d-2db0b4037845",
   "metadata": {},
   "outputs": [],
   "source": [
    "cols_to_convert = ['CAN', 'Data1','Data2', 'Data3', 'Data4', 'Data5', 'Data6', 'Data7', 'Data8']\n",
    "\n",
    "# Convert the hex values to numeric values\n",
    "df[cols_to_convert] = df[cols_to_convert].apply(lambda x: x.apply(lambda y: int(y, 16)))\n",
    "# df[cols_to_convert] = df[cols_to_convert].apply(lambda x: float(x))"
   ]
  },
  {
   "cell_type": "code",
   "execution_count": 31,
   "id": "bee6e6c6-8b88-4e81-864a-7ef5f175f24b",
   "metadata": {},
   "outputs": [
    {
     "data": {
      "text/html": [
       "<div>\n",
       "<style scoped>\n",
       "    .dataframe tbody tr th:only-of-type {\n",
       "        vertical-align: middle;\n",
       "    }\n",
       "\n",
       "    .dataframe tbody tr th {\n",
       "        vertical-align: top;\n",
       "    }\n",
       "\n",
       "    .dataframe thead th {\n",
       "        text-align: right;\n",
       "    }\n",
       "</style>\n",
       "<table border=\"1\" class=\"dataframe\">\n",
       "  <thead>\n",
       "    <tr style=\"text-align: right;\">\n",
       "      <th></th>\n",
       "      <th>timeStamp</th>\n",
       "      <th>CAN</th>\n",
       "      <th>noOfData</th>\n",
       "      <th>Data1</th>\n",
       "      <th>Data2</th>\n",
       "      <th>Data3</th>\n",
       "      <th>Data4</th>\n",
       "      <th>Data5</th>\n",
       "      <th>Data6</th>\n",
       "      <th>Data7</th>\n",
       "      <th>Data8</th>\n",
       "      <th>Flag</th>\n",
       "    </tr>\n",
       "  </thead>\n",
       "  <tbody>\n",
       "    <tr>\n",
       "      <th>0</th>\n",
       "      <td>1.513926e+09</td>\n",
       "      <td>1087</td>\n",
       "      <td>8</td>\n",
       "      <td>0</td>\n",
       "      <td>64</td>\n",
       "      <td>96</td>\n",
       "      <td>255</td>\n",
       "      <td>101</td>\n",
       "      <td>180</td>\n",
       "      <td>8</td>\n",
       "      <td>0</td>\n",
       "      <td>R</td>\n",
       "    </tr>\n",
       "    <tr>\n",
       "      <th>1</th>\n",
       "      <td>1.513926e+09</td>\n",
       "      <td>399</td>\n",
       "      <td>8</td>\n",
       "      <td>254</td>\n",
       "      <td>98</td>\n",
       "      <td>0</td>\n",
       "      <td>0</td>\n",
       "      <td>0</td>\n",
       "      <td>60</td>\n",
       "      <td>0</td>\n",
       "      <td>0</td>\n",
       "      <td>R</td>\n",
       "    </tr>\n",
       "    <tr>\n",
       "      <th>2</th>\n",
       "      <td>1.513926e+09</td>\n",
       "      <td>608</td>\n",
       "      <td>8</td>\n",
       "      <td>27</td>\n",
       "      <td>36</td>\n",
       "      <td>36</td>\n",
       "      <td>48</td>\n",
       "      <td>255</td>\n",
       "      <td>143</td>\n",
       "      <td>109</td>\n",
       "      <td>58</td>\n",
       "      <td>R</td>\n",
       "    </tr>\n",
       "    <tr>\n",
       "      <th>3</th>\n",
       "      <td>1.513926e+09</td>\n",
       "      <td>672</td>\n",
       "      <td>8</td>\n",
       "      <td>100</td>\n",
       "      <td>0</td>\n",
       "      <td>131</td>\n",
       "      <td>29</td>\n",
       "      <td>22</td>\n",
       "      <td>5</td>\n",
       "      <td>227</td>\n",
       "      <td>0</td>\n",
       "      <td>R</td>\n",
       "    </tr>\n",
       "    <tr>\n",
       "      <th>4</th>\n",
       "      <td>1.513926e+09</td>\n",
       "      <td>790</td>\n",
       "      <td>8</td>\n",
       "      <td>69</td>\n",
       "      <td>36</td>\n",
       "      <td>156</td>\n",
       "      <td>9</td>\n",
       "      <td>36</td>\n",
       "      <td>38</td>\n",
       "      <td>0</td>\n",
       "      <td>118</td>\n",
       "      <td>R</td>\n",
       "    </tr>\n",
       "  </tbody>\n",
       "</table>\n",
       "</div>"
      ],
      "text/plain": [
       "      timeStamp   CAN noOfData  Data1  Data2  Data3  Data4  Data5  Data6  \\\n",
       "0  1.513926e+09  1087        8      0     64     96    255    101    180   \n",
       "1  1.513926e+09   399        8    254     98      0      0      0     60   \n",
       "2  1.513926e+09   608        8     27     36     36     48    255    143   \n",
       "3  1.513926e+09   672        8    100      0    131     29     22      5   \n",
       "4  1.513926e+09   790        8     69     36    156      9     36     38   \n",
       "\n",
       "   Data7  Data8 Flag  \n",
       "0      8      0    R  \n",
       "1      0      0    R  \n",
       "2    109     58    R  \n",
       "3    227      0    R  \n",
       "4      0    118    R  "
      ]
     },
     "execution_count": 31,
     "metadata": {},
     "output_type": "execute_result"
    }
   ],
   "source": [
    "df.head()"
   ]
  },
  {
   "cell_type": "markdown",
   "id": "2f1e5724-aa8c-4797-9fd9-54c600cf296c",
   "metadata": {},
   "source": [
    "Exploratory Data Aanlysis on the Features\n",
    "\n",
    "Mean of the Features"
   ]
  },
  {
   "cell_type": "code",
   "execution_count": 38,
   "id": "c300d39a-16fb-457e-9e29-a35824b01557",
   "metadata": {},
   "outputs": [],
   "source": [
    "mean_val = df_features.mean()"
   ]
  },
  {
   "cell_type": "code",
   "execution_count": 39,
   "id": "3e53bf8f-81ff-48b7-adfc-38db8f3fc026",
   "metadata": {},
   "outputs": [
    {
     "data": {
      "text/plain": [
       "timeStamp    1.513926e+09\n",
       "CAN          7.051624e+02\n",
       "noOfData              inf\n",
       "Data1        7.948543e+01\n",
       "Data2        6.487158e+01\n",
       "Data3        5.600055e+01\n",
       "Data4        8.057412e+01\n",
       "Data5        7.799343e+01\n",
       "Data6        7.938229e+01\n",
       "Data7        4.613404e+01\n",
       "Data8        6.579754e+01\n",
       "dtype: float64"
      ]
     },
     "execution_count": 39,
     "metadata": {},
     "output_type": "execute_result"
    }
   ],
   "source": [
    "mean_val"
   ]
  },
  {
   "cell_type": "code",
   "execution_count": 44,
   "id": "de706115-370a-4783-8df5-91f5e9286a75",
   "metadata": {},
   "outputs": [
    {
     "data": {
      "text/plain": [
       "0         8\n",
       "1         8\n",
       "2         8\n",
       "3         8\n",
       "4         8\n",
       "         ..\n",
       "351267    8\n",
       "351268    8\n",
       "351269    8\n",
       "351270    8\n",
       "351271    8\n",
       "Name: noOfData, Length: 334978, dtype: object"
      ]
     },
     "execution_count": 44,
     "metadata": {},
     "output_type": "execute_result"
    }
   ],
   "source": [
    "df_features.pop('noOfData')"
   ]
  },
  {
   "cell_type": "markdown",
   "id": "55a65585-997b-44fc-a18e-7357e69b233e",
   "metadata": {},
   "source": [
    " "
   ]
  },
  {
   "cell_type": "markdown",
   "id": "ed062fdb-1320-427d-8541-75ae9c91316b",
   "metadata": {},
   "source": [
    "Variance of Data in the Features"
   ]
  },
  {
   "cell_type": "code",
   "execution_count": 40,
   "id": "8bda9948-1a25-4ab9-8111-61036cd263a1",
   "metadata": {},
   "outputs": [
    {
     "name": "stderr",
     "output_type": "stream",
     "text": [
      "/var/folders/cm/j8d2nfhd5lvg55861_0341s00000gn/T/ipykernel_62026/3621059236.py:1: FutureWarning: Dropping of nuisance columns in DataFrame reductions (with 'numeric_only=None') is deprecated; in a future version this will raise TypeError.  Select only valid columns before calling the reduction.\n",
      "  mean_val = df_features.var()\n"
     ]
    }
   ],
   "source": [
    "mean_val = df_features.var()"
   ]
  },
  {
   "cell_type": "code",
   "execution_count": 41,
   "id": "a973ca33-16c3-4ade-b22d-22811856b0a0",
   "metadata": {},
   "outputs": [
    {
     "data": {
      "text/plain": [
       "timeStamp      1607.504556\n",
       "CAN          156246.008616\n",
       "Data1          8470.725708\n",
       "Data2          4694.718212\n",
       "Data3          5310.604973\n",
       "Data4          9056.365572\n",
       "Data5          7878.049635\n",
       "Data6          6368.679341\n",
       "Data7          5346.351187\n",
       "Data8          6255.313463\n",
       "dtype: float64"
      ]
     },
     "execution_count": 41,
     "metadata": {},
     "output_type": "execute_result"
    }
   ],
   "source": [
    "mean_val"
   ]
  },
  {
   "cell_type": "code",
   "execution_count": 86,
   "id": "b5bd557f-18a1-4b43-abbc-0fa0239c66bc",
   "metadata": {},
   "outputs": [],
   "source": [
    "import os\n",
    "if not os.path.exists('heatmaps'):\n",
    "    os.makedirs('heatmapsR')\n",
    "    os.makedirs('heatmapsT')"
   ]
  },
  {
   "cell_type": "code",
   "execution_count": 42,
   "id": "2763e8fd-9543-4ae9-842e-8e8c4cb0b46b",
   "metadata": {},
   "outputs": [
    {
     "data": {
      "text/plain": [
       "0         1.513926e+09\n",
       "1         1.513926e+09\n",
       "2         1.513926e+09\n",
       "3         1.513926e+09\n",
       "4         1.513926e+09\n",
       "              ...     \n",
       "351267    1.513926e+09\n",
       "351268    1.513926e+09\n",
       "351269    1.513926e+09\n",
       "351270    1.513926e+09\n",
       "351271    1.513926e+09\n",
       "Name: timeStamp, Length: 334978, dtype: float64"
      ]
     },
     "execution_count": 42,
     "metadata": {},
     "output_type": "execute_result"
    }
   ],
   "source": [
    "df_features.pop('timeStamp')"
   ]
  },
  {
   "cell_type": "markdown",
   "id": "31f03be4-9a2e-4d86-908c-888313dcb660",
   "metadata": {},
   "source": [
    " "
   ]
  },
  {
   "cell_type": "markdown",
   "id": "fe2f99c5-064f-4812-b2a4-1d061d2ec783",
   "metadata": {},
   "source": [
    "Normalize the Features values"
   ]
  },
  {
   "cell_type": "code",
   "execution_count": 45,
   "id": "357a8477-7f68-4d29-9cd9-e1b910d618bd",
   "metadata": {},
   "outputs": [
    {
     "name": "stdout",
     "output_type": "stream",
     "text": [
      "1680\n",
      "0\n"
     ]
    }
   ],
   "source": [
    "max_val = df_features.values.max()\n",
    "min_val = df_features.values.min()\n",
    "print(max_val)\n",
    "print(min_val)"
   ]
  },
  {
   "cell_type": "code",
   "execution_count": 46,
   "id": "e59f65df-4047-44f6-8766-ca27b8c10ce6",
   "metadata": {},
   "outputs": [
    {
     "data": {
      "text/html": [
       "<div>\n",
       "<style scoped>\n",
       "    .dataframe tbody tr th:only-of-type {\n",
       "        vertical-align: middle;\n",
       "    }\n",
       "\n",
       "    .dataframe tbody tr th {\n",
       "        vertical-align: top;\n",
       "    }\n",
       "\n",
       "    .dataframe thead th {\n",
       "        text-align: right;\n",
       "    }\n",
       "</style>\n",
       "<table border=\"1\" class=\"dataframe\">\n",
       "  <thead>\n",
       "    <tr style=\"text-align: right;\">\n",
       "      <th></th>\n",
       "      <th>CAN</th>\n",
       "      <th>Data1</th>\n",
       "      <th>Data2</th>\n",
       "      <th>Data3</th>\n",
       "      <th>Data4</th>\n",
       "      <th>Data5</th>\n",
       "      <th>Data6</th>\n",
       "      <th>Data7</th>\n",
       "      <th>Data8</th>\n",
       "    </tr>\n",
       "  </thead>\n",
       "  <tbody>\n",
       "    <tr>\n",
       "      <th>0</th>\n",
       "      <td>0.647024</td>\n",
       "      <td>0.000000</td>\n",
       "      <td>0.038095</td>\n",
       "      <td>0.057143</td>\n",
       "      <td>0.151786</td>\n",
       "      <td>0.060119</td>\n",
       "      <td>0.107143</td>\n",
       "      <td>0.004762</td>\n",
       "      <td>0.000000</td>\n",
       "    </tr>\n",
       "    <tr>\n",
       "      <th>1</th>\n",
       "      <td>0.237500</td>\n",
       "      <td>0.151190</td>\n",
       "      <td>0.058333</td>\n",
       "      <td>0.000000</td>\n",
       "      <td>0.000000</td>\n",
       "      <td>0.000000</td>\n",
       "      <td>0.035714</td>\n",
       "      <td>0.000000</td>\n",
       "      <td>0.000000</td>\n",
       "    </tr>\n",
       "    <tr>\n",
       "      <th>2</th>\n",
       "      <td>0.361905</td>\n",
       "      <td>0.016071</td>\n",
       "      <td>0.021429</td>\n",
       "      <td>0.021429</td>\n",
       "      <td>0.028571</td>\n",
       "      <td>0.151786</td>\n",
       "      <td>0.085119</td>\n",
       "      <td>0.064881</td>\n",
       "      <td>0.034524</td>\n",
       "    </tr>\n",
       "    <tr>\n",
       "      <th>3</th>\n",
       "      <td>0.400000</td>\n",
       "      <td>0.059524</td>\n",
       "      <td>0.000000</td>\n",
       "      <td>0.077976</td>\n",
       "      <td>0.017262</td>\n",
       "      <td>0.013095</td>\n",
       "      <td>0.002976</td>\n",
       "      <td>0.135119</td>\n",
       "      <td>0.000000</td>\n",
       "    </tr>\n",
       "    <tr>\n",
       "      <th>4</th>\n",
       "      <td>0.470238</td>\n",
       "      <td>0.041071</td>\n",
       "      <td>0.021429</td>\n",
       "      <td>0.092857</td>\n",
       "      <td>0.005357</td>\n",
       "      <td>0.021429</td>\n",
       "      <td>0.022619</td>\n",
       "      <td>0.000000</td>\n",
       "      <td>0.070238</td>\n",
       "    </tr>\n",
       "  </tbody>\n",
       "</table>\n",
       "</div>"
      ],
      "text/plain": [
       "        CAN     Data1     Data2     Data3     Data4     Data5     Data6  \\\n",
       "0  0.647024  0.000000  0.038095  0.057143  0.151786  0.060119  0.107143   \n",
       "1  0.237500  0.151190  0.058333  0.000000  0.000000  0.000000  0.035714   \n",
       "2  0.361905  0.016071  0.021429  0.021429  0.028571  0.151786  0.085119   \n",
       "3  0.400000  0.059524  0.000000  0.077976  0.017262  0.013095  0.002976   \n",
       "4  0.470238  0.041071  0.021429  0.092857  0.005357  0.021429  0.022619   \n",
       "\n",
       "      Data7     Data8  \n",
       "0  0.004762  0.000000  \n",
       "1  0.000000  0.000000  \n",
       "2  0.064881  0.034524  \n",
       "3  0.135119  0.000000  \n",
       "4  0.000000  0.070238  "
      ]
     },
     "execution_count": 46,
     "metadata": {},
     "output_type": "execute_result"
    }
   ],
   "source": [
    "for i in df_features.index:\n",
    "    for j in df_features.columns:\n",
    "        df_features.at[i, j] = (df_features.at[i, j] - min_val)/(max_val - min_val)\n",
    "df_features.head()"
   ]
  },
  {
   "cell_type": "code",
   "execution_count": 47,
   "id": "cab322a1-c08a-4614-95f7-264bc561c2f3",
   "metadata": {},
   "outputs": [],
   "source": [
    "df_features.to_csv('features.csv')\n",
    "df_target.to_csv('target.csv')"
   ]
  },
  {
   "cell_type": "code",
   "execution_count": 48,
   "id": "73b41141-3daf-4287-902a-30594cbd577a",
   "metadata": {},
   "outputs": [
    {
     "name": "stdout",
     "output_type": "stream",
     "text": [
      "1.0\n",
      "0.0\n"
     ]
    }
   ],
   "source": [
    "max_val = df_features.values.max()\n",
    "min_val = df_features.values.min()\n",
    "print(max_val)\n",
    "print(min_val)"
   ]
  },
  {
   "cell_type": "markdown",
   "id": "2b5ade9f-6dcf-44d8-9e62-1250bbada92d",
   "metadata": {},
   "source": [
    " "
   ]
  },
  {
   "cell_type": "markdown",
   "id": "206c9d53-e3d5-426b-98e3-d5ee54eedbf0",
   "metadata": {},
   "source": [
    "Conversion of Feature Vecotors into HeatMaps"
   ]
  },
  {
   "cell_type": "code",
   "execution_count": null,
   "id": "65057f08-20e2-466d-935a-2c01966111c0",
   "metadata": {},
   "outputs": [],
   "source": [
    "for i, row in df_features.iterrows():\n",
    "    fig, ax = plt.subplots(figsize=(3,3))\n",
    "    sns.heatmap([row.values], cmap='hot', annot=False, fmt='.2f', cbar=False, xticklabels=False, yticklabels=False, vmin=min_val, vmax=max_val, ax = ax)\n",
    "    fig.subplots_adjust(left=0, right=1, bottom=0, top=1)\n",
    "    \n",
    "    plt.savefig(f'heatmaps{df_target[i]}/heatmap_{i}.png')\n",
    "    \n",
    "    plt.close()"
   ]
  },
  {
   "cell_type": "code",
   "execution_count": 103,
   "id": "2cc02154-0463-4c2c-9d54-c4a3853fdc53",
   "metadata": {},
   "outputs": [
    {
     "data": {
      "image/png": "[encoded data removed]",
      "text/plain": [
       "<Figure size 500x500 with 1 Axes>"
      ]
     },
     "metadata": {},
     "output_type": "display_data"
    }
   ],
   "source": [
    "fig, ax = plt.subplots(figsize=(5,5))\n",
    "sns.heatmap(df_features.head(), cmap='hot', annot=False, fmt='.2f', cbar=False, xticklabels=False, yticklabels=False, vmin=min_val, vmax=max_val, ax = ax)\n",
    "fig.subplots_adjust(left=0, right=1, bottom=0, top=1)\n",
    "# Show the plot\n",
    "plt.savefig('1.png')\n",
    "plt.show()\n",
    "plt.close()"
   ]
  }
 ],
 "metadata": {
  "kernelspec": {
   "display_name": "Python 3 (ipykernel)",
   "language": "python",
   "name": "python3"
  },
  "language_info": {
   "codemirror_mode": {
    "name": "ipython",
    "version": 3
   },
   "file_extension": ".py",
   "mimetype": "text/x-python",
   "name": "python",
   "nbconvert_exporter": "python",
   "pygments_lexer": "ipython3",
   "version": "3.9.16"
  }
 },
 "nbformat": 4,
 "nbformat_minor": 5
}
