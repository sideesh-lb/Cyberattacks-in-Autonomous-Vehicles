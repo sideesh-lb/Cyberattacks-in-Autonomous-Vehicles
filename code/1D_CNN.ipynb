{
 "cells": [
  {
   "cell_type": "markdown",
   "id": "95488d95-99a7-4119-b86a-5341eb0c72e6",
   "metadata": {},
   "source": [
    "**1D Convolutional Neural Network Classifier**"
   ]
  },
  {
   "cell_type": "markdown",
   "id": "6373affd-b507-44b6-92fc-8b040cd421ed",
   "metadata": {},
   "source": [
    "Data Import and Preprocessing"
   ]
  },
  {
   "cell_type": "code",
   "execution_count": 5,
   "id": "d41702ef-9058-4c1e-b4cc-6a11411f7932",
   "metadata": {},
   "outputs": [
    {
     "name": "stderr",
     "output_type": "stream",
     "text": [
      "2023-04-24 19:06:10.461627: I tensorflow/core/platform/cpu_feature_guard.cc:193] This TensorFlow binary is optimized with oneAPI Deep Neural Network Library (oneDNN) to use the following CPU instructions in performance-critical operations:  SSE4.1 SSE4.2\n",
      "To enable them in other operations, rebuild TensorFlow with the appropriate compiler flags.\n"
     ]
    }
   ],
   "source": [
    "import os\n",
    "import shutil\n",
    "import random\n",
    "from PIL import Image\n",
    "import matplotlib.pyplot as plt\n",
    "from IPython.display import Image as Image1\n",
    "import cv2\n",
    "import tensorflow as tf\n",
    "from keras.preprocessing.image import ImageDataGenerator\n",
    "from IPython.display import display\n",
    "from ipywidgets import Image\n",
    "import numpy as np"
   ]
  },
  {
   "cell_type": "code",
   "execution_count": 87,
   "id": "b2dc1770-d03c-4c0c-8276-8ced905a86ea",
   "metadata": {},
   "outputs": [],
   "source": [
    "import pandas as pd\n",
    "feat = pd.read_csv('features.csv')\n",
    "df_R_features = pd.read_csv('newFeaturesR.csv')\n",
    "df_T_features = pd.read_csv('newFeaturesT.csv')\n",
    "df_R_target = pd.read_csv('newTargetR.csv')\n",
    "df_T_target = pd.read_csv('newTargetT.csv')"
   ]
  },
  {
   "cell_type": "code",
   "execution_count": null,
   "id": "ce541bad-2180-4532-9740-de6ef8faeb7a",
   "metadata": {},
   "outputs": [],
   "source": [
    "df_R_features.pop('SNo')\n",
    "df_T_features.pop('SNo')\n",
    "df_R_target.pop('SNo')\n",
    "df_T_target.pop('SNo')\n",
    "df_features = pd.concat([df_R_features, df_T_features])\n",
    "df_target = pd.concat([df_R_target, df_T_target])"
   ]
  },
  {
   "cell_type": "code",
   "execution_count": 60,
   "id": "9e90277b-b474-4da0-bb99-fe91f56320cc",
   "metadata": {},
   "outputs": [],
   "source": [
    "from sklearn.preprocessing import LabelEncoder\n",
    "le = LabelEncoder()\n",
    "\n",
    "df_target['Flag'] = le.fit_transform(df_target['Flag'])"
   ]
  },
  {
   "cell_type": "code",
   "execution_count": 102,
   "id": "58c5e598-7d6c-41e8-84e4-dd9cd8950e94",
   "metadata": {},
   "outputs": [
    {
     "data": {
      "text/html": [
       "<div>\n",
       "<style scoped>\n",
       "    .dataframe tbody tr th:only-of-type {\n",
       "        vertical-align: middle;\n",
       "    }\n",
       "\n",
       "    .dataframe tbody tr th {\n",
       "        vertical-align: top;\n",
       "    }\n",
       "\n",
       "    .dataframe thead th {\n",
       "        text-align: right;\n",
       "    }\n",
       "</style>\n",
       "<table border=\"1\" class=\"dataframe\">\n",
       "  <thead>\n",
       "    <tr style=\"text-align: right;\">\n",
       "      <th></th>\n",
       "      <th>CAN</th>\n",
       "      <th>Data1</th>\n",
       "      <th>Data2</th>\n",
       "      <th>Data3</th>\n",
       "      <th>Data4</th>\n",
       "      <th>Data5</th>\n",
       "      <th>Data6</th>\n",
       "      <th>Data7</th>\n",
       "      <th>Data8</th>\n",
       "    </tr>\n",
       "  </thead>\n",
       "  <tbody>\n",
       "    <tr>\n",
       "      <th>0</th>\n",
       "      <td>0.647024</td>\n",
       "      <td>0.000000</td>\n",
       "      <td>0.038095</td>\n",
       "      <td>0.057143</td>\n",
       "      <td>0.151786</td>\n",
       "      <td>0.060119</td>\n",
       "      <td>0.107143</td>\n",
       "      <td>0.004762</td>\n",
       "      <td>0.000000</td>\n",
       "    </tr>\n",
       "    <tr>\n",
       "      <th>1</th>\n",
       "      <td>0.237500</td>\n",
       "      <td>0.151190</td>\n",
       "      <td>0.058333</td>\n",
       "      <td>0.000000</td>\n",
       "      <td>0.000000</td>\n",
       "      <td>0.000000</td>\n",
       "      <td>0.035714</td>\n",
       "      <td>0.000000</td>\n",
       "      <td>0.000000</td>\n",
       "    </tr>\n",
       "    <tr>\n",
       "      <th>2</th>\n",
       "      <td>0.361905</td>\n",
       "      <td>0.016071</td>\n",
       "      <td>0.021429</td>\n",
       "      <td>0.021429</td>\n",
       "      <td>0.028571</td>\n",
       "      <td>0.151786</td>\n",
       "      <td>0.085119</td>\n",
       "      <td>0.064881</td>\n",
       "      <td>0.034524</td>\n",
       "    </tr>\n",
       "    <tr>\n",
       "      <th>3</th>\n",
       "      <td>0.400000</td>\n",
       "      <td>0.059524</td>\n",
       "      <td>0.000000</td>\n",
       "      <td>0.077976</td>\n",
       "      <td>0.017262</td>\n",
       "      <td>0.013095</td>\n",
       "      <td>0.002976</td>\n",
       "      <td>0.135119</td>\n",
       "      <td>0.000000</td>\n",
       "    </tr>\n",
       "    <tr>\n",
       "      <th>4</th>\n",
       "      <td>0.470238</td>\n",
       "      <td>0.041071</td>\n",
       "      <td>0.021429</td>\n",
       "      <td>0.092857</td>\n",
       "      <td>0.005357</td>\n",
       "      <td>0.021429</td>\n",
       "      <td>0.022619</td>\n",
       "      <td>0.000000</td>\n",
       "      <td>0.070238</td>\n",
       "    </tr>\n",
       "    <tr>\n",
       "      <th>...</th>\n",
       "      <td>...</td>\n",
       "      <td>...</td>\n",
       "      <td>...</td>\n",
       "      <td>...</td>\n",
       "      <td>...</td>\n",
       "      <td>...</td>\n",
       "      <td>...</td>\n",
       "      <td>...</td>\n",
       "      <td>...</td>\n",
       "    </tr>\n",
       "    <tr>\n",
       "      <th>334973</th>\n",
       "      <td>0.470238</td>\n",
       "      <td>0.041071</td>\n",
       "      <td>0.022024</td>\n",
       "      <td>0.119048</td>\n",
       "      <td>0.005357</td>\n",
       "      <td>0.022024</td>\n",
       "      <td>0.020833</td>\n",
       "      <td>0.000000</td>\n",
       "      <td>0.069643</td>\n",
       "    </tr>\n",
       "    <tr>\n",
       "      <th>334974</th>\n",
       "      <td>0.237500</td>\n",
       "      <td>0.151190</td>\n",
       "      <td>0.064286</td>\n",
       "      <td>0.000000</td>\n",
       "      <td>0.000000</td>\n",
       "      <td>0.000000</td>\n",
       "      <td>0.036310</td>\n",
       "      <td>0.000000</td>\n",
       "      <td>0.000000</td>\n",
       "    </tr>\n",
       "    <tr>\n",
       "      <th>334975</th>\n",
       "      <td>0.361905</td>\n",
       "      <td>0.016667</td>\n",
       "      <td>0.022024</td>\n",
       "      <td>0.022024</td>\n",
       "      <td>0.028571</td>\n",
       "      <td>0.151786</td>\n",
       "      <td>0.085119</td>\n",
       "      <td>0.064881</td>\n",
       "      <td>0.002381</td>\n",
       "    </tr>\n",
       "    <tr>\n",
       "      <th>334976</th>\n",
       "      <td>0.400000</td>\n",
       "      <td>0.002381</td>\n",
       "      <td>0.000000</td>\n",
       "      <td>0.079167</td>\n",
       "      <td>0.017262</td>\n",
       "      <td>0.013095</td>\n",
       "      <td>0.002976</td>\n",
       "      <td>0.135119</td>\n",
       "      <td>0.000000</td>\n",
       "    </tr>\n",
       "    <tr>\n",
       "      <th>334977</th>\n",
       "      <td>0.481548</td>\n",
       "      <td>0.007143</td>\n",
       "      <td>0.105357</td>\n",
       "      <td>0.075000</td>\n",
       "      <td>0.011905</td>\n",
       "      <td>0.010119</td>\n",
       "      <td>0.019048</td>\n",
       "      <td>0.000000</td>\n",
       "      <td>0.011905</td>\n",
       "    </tr>\n",
       "  </tbody>\n",
       "</table>\n",
       "<p>334978 rows × 9 columns</p>\n",
       "</div>"
      ],
      "text/plain": [
       "             CAN     Data1     Data2     Data3     Data4     Data5     Data6   \n",
       "0       0.647024  0.000000  0.038095  0.057143  0.151786  0.060119  0.107143  \\\n",
       "1       0.237500  0.151190  0.058333  0.000000  0.000000  0.000000  0.035714   \n",
       "2       0.361905  0.016071  0.021429  0.021429  0.028571  0.151786  0.085119   \n",
       "3       0.400000  0.059524  0.000000  0.077976  0.017262  0.013095  0.002976   \n",
       "4       0.470238  0.041071  0.021429  0.092857  0.005357  0.021429  0.022619   \n",
       "...          ...       ...       ...       ...       ...       ...       ...   \n",
       "334973  0.470238  0.041071  0.022024  0.119048  0.005357  0.022024  0.020833   \n",
       "334974  0.237500  0.151190  0.064286  0.000000  0.000000  0.000000  0.036310   \n",
       "334975  0.361905  0.016667  0.022024  0.022024  0.028571  0.151786  0.085119   \n",
       "334976  0.400000  0.002381  0.000000  0.079167  0.017262  0.013095  0.002976   \n",
       "334977  0.481548  0.007143  0.105357  0.075000  0.011905  0.010119  0.019048   \n",
       "\n",
       "           Data7     Data8  \n",
       "0       0.004762  0.000000  \n",
       "1       0.000000  0.000000  \n",
       "2       0.064881  0.034524  \n",
       "3       0.135119  0.000000  \n",
       "4       0.000000  0.070238  \n",
       "...          ...       ...  \n",
       "334973  0.000000  0.069643  \n",
       "334974  0.000000  0.000000  \n",
       "334975  0.064881  0.002381  \n",
       "334976  0.135119  0.000000  \n",
       "334977  0.000000  0.011905  \n",
       "\n",
       "[334978 rows x 9 columns]"
      ]
     },
     "execution_count": 102,
     "metadata": {},
     "output_type": "execute_result"
    }
   ],
   "source": [
    "df_R_features"
   ]
  },
  {
   "cell_type": "code",
   "execution_count": 177,
   "id": "508f0964-1abf-4d29-b72d-f55fc2d4e9e6",
   "metadata": {},
   "outputs": [],
   "source": [
    "import pandas as pd\n",
    "import numpy as np\n",
    "from sklearn.model_selection import train_test_split\n",
    "from keras.models import Sequential\n",
    "from keras.layers import Conv1D, MaxPooling1D, Flatten, Dense\n",
    "\n",
    "# Load feature data into a pandas DataFrame\n",
    "X_df = pd.read_csv('features.csv')\n",
    "\n",
    "# Load target data into a pandas DataFrame\n",
    "y_df = pd.read_csv('target.csv')\n",
    "\n",
    "# Merge the feature and target DataFrames on a common index\n",
    "data = pd.merge(X_df, y_df)\n",
    "data.pop('Unnamed: 0')\n",
    "\n",
    "# Separate the input features from the labels\n",
    "X = data.iloc[:, :-1].values\n",
    "y = data.iloc[:, -1].values\n",
    "\n"
   ]
  },
  {
   "cell_type": "code",
   "execution_count": 187,
   "id": "262d965a-57c3-4e11-b24d-472dda9cfb8d",
   "metadata": {},
   "outputs": [],
   "source": [
    "y_binary = np.where(y == 'R', 0, 1)"
   ]
  },
  {
   "cell_type": "code",
   "execution_count": 188,
   "id": "97b6a44b-f612-418d-82ea-5c6bab3e3056",
   "metadata": {},
   "outputs": [
    {
     "data": {
      "text/plain": [
       "array([0, 0, 0, ..., 0, 0, 0])"
      ]
     },
     "execution_count": 188,
     "metadata": {},
     "output_type": "execute_result"
    }
   ],
   "source": [
    "y_binary"
   ]
  },
  {
   "cell_type": "code",
   "execution_count": 189,
   "id": "a51b7acc-d82a-4166-bb7d-1b9c7b5bb4f1",
   "metadata": {},
   "outputs": [],
   "source": [
    "X_train, X_test, y_train, y_test = train_test_split(X, y_binary, test_size=0.2, random_state=42)"
   ]
  },
  {
   "cell_type": "code",
   "execution_count": 191,
   "id": "79c9f067-cfe2-4955-aeb8-796f3429dbf1",
   "metadata": {},
   "outputs": [
    {
     "data": {
      "text/plain": [
       "array([1, 1, 0, ..., 1, 0, 0])"
      ]
     },
     "execution_count": 191,
     "metadata": {},
     "output_type": "execute_result"
    }
   ],
   "source": [
    "y_test"
   ]
  },
  {
   "cell_type": "markdown",
   "id": "798ae683-b804-4adf-b40b-3bae73bc775d",
   "metadata": {},
   "source": [
    " "
   ]
  },
  {
   "cell_type": "markdown",
   "id": "8d2986d6-a765-4198-95a9-5ba9af7d6511",
   "metadata": {},
   "source": [
    "Model Design & Compilation"
   ]
  },
  {
   "cell_type": "code",
   "execution_count": 222,
   "id": "94b78c0f-3b6b-4ee2-af03-71a2a05c2126",
   "metadata": {},
   "outputs": [],
   "source": [
    "model = Sequential()\n",
    "model.add(Conv1D(filters=32, kernel_size=3, activation='relu', input_shape=(X.shape[1], 1)))\n",
    "model.add(MaxPooling1D(pool_size=2))\n",
    "model.add(Conv1D(filters=32, kernel_size=3, activation='relu', input_shape=(X.shape[1], 1)))\n",
    "model.add(Flatten())\n",
    "model.add(Dense(64, activation='relu'))\n",
    "model.add(Dense(2, activation='softmax'))"
   ]
  },
  {
   "cell_type": "code",
   "execution_count": 223,
   "id": "4e445a7a-bd7f-4ac3-b804-79c6dc0bb576",
   "metadata": {},
   "outputs": [],
   "source": [
    "model.compile(optimizer='adam', loss='sparse_categorical_crossentropy', metrics=['accuracy'])"
   ]
  },
  {
   "cell_type": "code",
   "execution_count": 224,
   "id": "57b0c90f-b2a1-4ea0-8b4b-5e35f48231a4",
   "metadata": {},
   "outputs": [],
   "source": [
    "X_train = X_train.reshape((X_train.shape[0], X_train.shape[1], 1))\n",
    "X_test = X_test.reshape((X_test.shape[0], X_test.shape[1], 1))"
   ]
  },
  {
   "cell_type": "markdown",
   "id": "83b4ac26-378d-48ad-ba27-1a3d2b9d4255",
   "metadata": {},
   "source": [
    " "
   ]
  },
  {
   "cell_type": "markdown",
   "id": "91ab01ce-64ba-4fb1-b2cc-59d830ad11da",
   "metadata": {},
   "source": [
    "Model Training"
   ]
  },
  {
   "cell_type": "code",
   "execution_count": 225,
   "id": "32944ee6-1be9-4509-b4e6-1d658f28e809",
   "metadata": {},
   "outputs": [
    {
     "name": "stdout",
     "output_type": "stream",
     "text": [
      "Epoch 1/10\n",
      "8375/8375 [==============================] - 8s 957us/step - loss: 0.0474 - accuracy: 0.9862 - val_loss: 0.0152 - val_accuracy: 0.9962\n",
      "Epoch 2/10\n",
      "8375/8375 [==============================] - 8s 936us/step - loss: 0.0135 - accuracy: 0.9971 - val_loss: 0.0068 - val_accuracy: 0.9987\n",
      "Epoch 3/10\n",
      "8375/8375 [==============================] - 8s 962us/step - loss: 0.0086 - accuracy: 0.9983 - val_loss: 0.0055 - val_accuracy: 0.9988\n",
      "Epoch 4/10\n",
      "8375/8375 [==============================] - 8s 952us/step - loss: 0.0067 - accuracy: 0.9986 - val_loss: 0.0088 - val_accuracy: 0.9982\n",
      "Epoch 5/10\n",
      "8375/8375 [==============================] - 8s 975us/step - loss: 0.0060 - accuracy: 0.9988 - val_loss: 0.0041 - val_accuracy: 0.9992\n",
      "Epoch 6/10\n",
      "8375/8375 [==============================] - 8s 956us/step - loss: 0.0053 - accuracy: 0.9990 - val_loss: 0.0068 - val_accuracy: 0.9985\n",
      "Epoch 7/10\n",
      "8375/8375 [==============================] - 8s 907us/step - loss: 0.0045 - accuracy: 0.9991 - val_loss: 0.0029 - val_accuracy: 0.9995\n",
      "Epoch 8/10\n",
      "8375/8375 [==============================] - 8s 923us/step - loss: 0.0041 - accuracy: 0.9993 - val_loss: 0.0036 - val_accuracy: 0.9995\n",
      "Epoch 9/10\n",
      "8375/8375 [==============================] - 8s 923us/step - loss: 0.0038 - accuracy: 0.9993 - val_loss: 0.0042 - val_accuracy: 0.9992\n",
      "Epoch 10/10\n",
      "8375/8375 [==============================] - 8s 919us/step - loss: 0.0036 - accuracy: 0.9993 - val_loss: 0.0032 - val_accuracy: 0.9994\n"
     ]
    }
   ],
   "source": [
    "history = model.fit(X_train, y_train, epochs=10, batch_size=32, validation_data=(X_test, y_test))"
   ]
  },
  {
   "cell_type": "markdown",
   "id": "8ab57d7d-0480-456e-9fd7-348bdbe9effb",
   "metadata": {},
   "source": [
    " "
   ]
  },
  {
   "cell_type": "markdown",
   "id": "a51148b6-72e0-4258-a3cf-57705487a890",
   "metadata": {},
   "source": [
    "Results"
   ]
  },
  {
   "cell_type": "code",
   "execution_count": 196,
   "id": "fc1821ad-1200-45b7-9f1b-9df70fce03f6",
   "metadata": {},
   "outputs": [
    {
     "name": "stdout",
     "output_type": "stream",
     "text": [
      "2094/2094 [==============================] - 1s 551us/step - loss: 0.0040 - accuracy: 0.9994\n",
      "Validation Accuracy: 0.9993581771850586\n",
      "Validation Loss: 0.004002314992249012\n"
     ]
    }
   ],
   "source": [
    "loss, accuracy = model.evaluate(X_test, y_test)\n",
    "print(\"Validation Accuracy: \" + str(accuracy))\n",
    "print(\"Validation Loss: \" + str(loss))"
   ]
  },
  {
   "cell_type": "code",
   "execution_count": 212,
   "id": "5a6dc2a6-46cc-4e59-88c5-2d88b25b59c3",
   "metadata": {},
   "outputs": [
    {
     "name": "stdout",
     "output_type": "stream",
     "text": [
      "2094/2094 [==============================] - 1s 430us/step\n"
     ]
    }
   ],
   "source": [
    "y_pred = model.predict(X_test)\n",
    "\n",
    "y_pred = np.argmax(y_pred, axis=1)"
   ]
  },
  {
   "cell_type": "code",
   "execution_count": 215,
   "id": "942ad16c-b792-4cb0-8d99-24d397997a5b",
   "metadata": {},
   "outputs": [
    {
     "name": "stdout",
     "output_type": "stream",
     "text": [
      "[[51862    17]\n",
      " [   10 15107]]\n"
     ]
    }
   ],
   "source": [
    "from sklearn.metrics import confusion_matrix\n",
    "cm = confusion_matrix(y_test, y_pred)\n",
    "print(cm)"
   ]
  },
  {
   "cell_type": "code",
   "execution_count": 216,
   "id": "b3d64b63-92ec-48ba-8826-0d7d338bccca",
   "metadata": {},
   "outputs": [
    {
     "name": "stdout",
     "output_type": "stream",
     "text": [
      "Normalized Confusion Matrix:\n",
      "[[9.99672314e-01 3.27685576e-04]\n",
      " [6.61506913e-04 9.99338493e-01]]\n"
     ]
    }
   ],
   "source": [
    "cm_norm = cm.astype('float') / cm.sum(axis=1)[:, np.newaxis]\n",
    "print(\"Normalized Confusion Matrix:\")\n",
    "print(cm_norm)"
   ]
  },
  {
   "cell_type": "code",
   "execution_count": 217,
   "id": "5abb9d25-f5d7-4828-868a-1af3e615c099",
   "metadata": {},
   "outputs": [],
   "source": [
    "TP = cm[0, 0]\n",
    "FN = cm[0, 1]\n",
    "FP = cm[1, 0]\n",
    "TN = cm[1, 1]\n",
    "sensitivity = TP / (TP + FN)\n",
    "specificity = TN / (TN + FP)"
   ]
  },
  {
   "cell_type": "code",
   "execution_count": 219,
   "id": "42f1e2c0-e766-4a9d-8c2d-1c23b3bb8b8e",
   "metadata": {},
   "outputs": [
    {
     "name": "stdout",
     "output_type": "stream",
     "text": [
      "Sensitivity: 0.99967\n",
      "Specificity: 0.99934\n"
     ]
    }
   ],
   "source": [
    "print(\"Sensitivity: {:.5f}\".format(sensitivity))\n",
    "print(\"Specificity: {:.5f}\".format(specificity))"
   ]
  },
  {
   "cell_type": "code",
   "execution_count": 221,
   "id": "acde9c96-5609-4e87-8e66-0ec328eb459a",
   "metadata": {},
   "outputs": [
    {
     "name": "stdout",
     "output_type": "stream",
     "text": [
      "Accuracy: 0.99960\n",
      "Precision: 0.99981\n"
     ]
    }
   ],
   "source": [
    "accuracy = (cm[0, 0] + cm[1, 1]) / sum(sum(cm))\n",
    "precision = cm[0, 0] / (cm[0, 0] + cm[1, 0])\n",
    "\n",
    "print(\"Accuracy: {:.5f}\".format(accuracy))\n",
    "print(\"Precision: {:.5f}\".format(precision))"
   ]
  },
  {
   "cell_type": "code",
   "execution_count": 227,
   "id": "3b1ba158-c647-4023-87e5-93c5a52d5f2e",
   "metadata": {},
   "outputs": [
    {
     "data": {
      "text/plain": [
       "<matplotlib.legend.Legend at 0x7f8b91b50f70>"
      ]
     },
     "execution_count": 227,
     "metadata": {},
     "output_type": "execute_result"
    },
    {
     "data": {
      "image/png": "[encoded data removed]",
      "text/plain": [
       "<Figure size 640x480 with 1 Axes>"
      ]
     },
     "metadata": {},
     "output_type": "display_data"
    }
   ],
   "source": [
    "import matplotlib.pyplot as plt\n",
    "num_epochs = range(1, 11) \n",
    "plt.plot(num_epochs, history.history['accuracy'], label='Training Accuracy')\n",
    "plt.plot(num_epochs, history.history['val_accuracy'], label='Validation Accuracy')\n",
    "plt.title('Training and Validation Accuracy')\n",
    "plt.xlabel('Epochs')\n",
    "plt.ylabel('Accuracy')\n",
    "plt.legend()"
   ]
  },
  {
   "cell_type": "code",
   "execution_count": 228,
   "id": "bddb64c9-24cf-4692-930a-e217a9aa0dcf",
   "metadata": {},
   "outputs": [
    {
     "data": {
      "text/plain": [
       "<matplotlib.legend.Legend at 0x7f8b712f7fa0>"
      ]
     },
     "execution_count": 228,
     "metadata": {},
     "output_type": "execute_result"
    },
    {
     "data": {
      "image/png": "[encoded data removed]",
      "text/plain": [
       "<Figure size 640x480 with 1 Axes>"
      ]
     },
     "metadata": {},
     "output_type": "display_data"
    }
   ],
   "source": [
    "num_epochs = range(1, 11) \n",
    "plt.plot(num_epochs, history.history['loss'], label='Training Loss')\n",
    "plt.plot(num_epochs, history.history['val_loss'], label='Validation Loss')\n",
    "plt.title('Training and Validation Loss')\n",
    "plt.xlabel('Epochs')\n",
    "plt.ylabel('Loss')\n",
    "plt.legend()"
   ]
  },
  {
   "cell_type": "code",
   "execution_count": 229,
   "id": "fa5328fc-cf4c-4bfc-832c-445bda174bb1",
   "metadata": {},
   "outputs": [
    {
     "name": "stdout",
     "output_type": "stream",
     "text": [
      "F1 score: 0.9991071723818656\n"
     ]
    }
   ],
   "source": [
    "from sklearn.metrics import f1_score\n",
    "f1 = f1_score(y_test, y_pred)\n",
    "print(\"F1 score:\", f1)"
   ]
  },
  {
   "cell_type": "code",
   "execution_count": 230,
   "id": "3715a7a3-c0a2-4b12-875a-c87fab84ccbc",
   "metadata": {},
   "outputs": [
    {
     "name": "stdout",
     "output_type": "stream",
     "text": [
      "Model: \"sequential_27\"\n",
      "_________________________________________________________________\n",
      " Layer (type)                Output Shape              Param #   \n",
      "=================================================================\n",
      " conv1d_31 (Conv1D)          (None, 7, 32)             128       \n",
      "                                                                 \n",
      " max_pooling1d_22 (MaxPoolin  (None, 3, 32)            0         \n",
      " g1D)                                                            \n",
      "                                                                 \n",
      " conv1d_32 (Conv1D)          (None, 1, 32)             3104      \n",
      "                                                                 \n",
      " flatten_22 (Flatten)        (None, 32)                0         \n",
      "                                                                 \n",
      " dense_26 (Dense)            (None, 64)                2112      \n",
      "                                                                 \n",
      " dense_27 (Dense)            (None, 2)                 130       \n",
      "                                                                 \n",
      "=================================================================\n",
      "Total params: 5,474\n",
      "Trainable params: 5,474\n",
      "Non-trainable params: 0\n",
      "_________________________________________________________________\n"
     ]
    }
   ],
   "source": [
    "model.summary()"
   ]
  },
  {
   "cell_type": "code",
   "execution_count": null,
   "id": "1ccc0de4-d52a-4cbf-8257-a312db132b14",
   "metadata": {},
   "outputs": [],
   "source": []
  }
 ],
 "metadata": {
  "kernelspec": {
   "display_name": "Python 3 (ipykernel)",
   "language": "python",
   "name": "python3"
  },
  "language_info": {
   "codemirror_mode": {
    "name": "ipython",
    "version": 3
   },
   "file_extension": ".py",
   "mimetype": "text/x-python",
   "name": "python",
   "nbconvert_exporter": "python",
   "pygments_lexer": "ipython3",
   "version": "3.9.16"
  }
 },
 "nbformat": 4,
 "nbformat_minor": 5
}
