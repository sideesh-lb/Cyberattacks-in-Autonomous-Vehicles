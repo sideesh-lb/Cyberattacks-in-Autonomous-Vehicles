{
 "cells": [
  {
   "cell_type": "markdown",
   "id": "9b71453e-0dc0-45eb-8df8-83e67402e0dc",
   "metadata": {},
   "source": [
    " "
   ]
  },
  {
   "cell_type": "markdown",
   "id": "63ae7b16-7283-48d4-b88a-688dea929155",
   "metadata": {},
   "source": [
    "**2D Convolutional Neural Network + Longest Short Term Memory (LSTM) Ensemble Classifier**"
   ]
  },
  {
   "cell_type": "markdown",
   "id": "48258746-33c6-45d4-a396-eb3c660ef7ee",
   "metadata": {},
   "source": [
    "Data Import & Prepearation of Images in to pass it into a Two Dimensional Convolution Network"
   ]
  },
  {
   "cell_type": "code",
   "execution_count": 2,
   "id": "87ce39cf-97bf-4f39-b1b7-d90c4a670a5b",
   "metadata": {},
   "outputs": [
    {
     "name": "stderr",
     "output_type": "stream",
     "text": [
      "2023-04-25 20:33:06.168211: I tensorflow/core/platform/cpu_feature_guard.cc:193] This TensorFlow binary is optimized with oneAPI Deep Neural Network Library (oneDNN) to use the following CPU instructions in performance-critical operations:  SSE4.1 SSE4.2\n",
      "To enable them in other operations, rebuild TensorFlow with the appropriate compiler flags.\n"
     ]
    }
   ],
   "source": [
    "import os\n",
    "import shutil\n",
    "import random\n",
    "from PIL import Image\n",
    "import matplotlib.pyplot as plt\n",
    "import numpy as np\n",
    "from IPython.display import Image as Image1\n",
    "import cv2\n",
    "import tensorflow as tf\n",
    "from keras.preprocessing.image import ImageDataGenerator\n",
    "from keras.models import Sequential\n",
    "from keras.layers import Conv2D, MaxPooling2D, Dense, Flatten, LSTM, BatchNormalization, Reshape"
   ]
  },
  {
   "cell_type": "code",
   "execution_count": 2,
   "id": "63dd99a4-13b4-4b30-b659-74f0286d8739",
   "metadata": {},
   "outputs": [],
   "source": [
    "R_path = \"dataset/R\"\n",
    "T_path = \"dataset/T\""
   ]
  },
  {
   "cell_type": "code",
   "execution_count": 3,
   "id": "2d00c4f6-6c74-4b39-985f-bfd295f7a1dc",
   "metadata": {},
   "outputs": [],
   "source": [
    "R_imgs = os.listdir(R_path)\n",
    "T_imgs = os.listdir(T_path)"
   ]
  },
  {
   "cell_type": "code",
   "execution_count": 4,
   "id": "7ea45ff4-3f46-46bc-8bf6-9c3025d31068",
   "metadata": {},
   "outputs": [
    {
     "name": "stdout",
     "output_type": "stream",
     "text": [
      "1100\n",
      "400\n"
     ]
    }
   ],
   "source": [
    "num_R_imgs = len(R_imgs)\n",
    "print(num_R_imgs)\n",
    "\n",
    "num_T_imgs = len(T_imgs)\n",
    "print(num_T_imgs)"
   ]
  },
  {
   "cell_type": "markdown",
   "id": "007612f2-97be-4c84-89e1-e90986c1c184",
   "metadata": {},
   "source": [
    "Sample Input Iamge"
   ]
  },
  {
   "cell_type": "code",
   "execution_count": 5,
   "id": "7222e288-2457-43fb-be13-9754c89a820a",
   "metadata": {},
   "outputs": [],
   "source": [
    "sample_img_path = \"dataset/R/heatmap_10050.png\"\n",
    "sample_img = Image.open(sample_img_path)"
   ]
  },
  {
   "cell_type": "code",
   "execution_count": 6,
   "id": "45d6b458-f49a-4c8a-a693-ca12a3cb7fcf",
   "metadata": {},
   "outputs": [
    {
     "data": {
      "image/png": "[encoded data removed]",
      "text/plain": [
       "<IPython.core.display.Image object>"
      ]
     },
     "execution_count": 6,
     "metadata": {},
     "output_type": "execute_result"
    }
   ],
   "source": [
    "Image1(filename=sample_img_path)"
   ]
  },
  {
   "cell_type": "code",
   "execution_count": 7,
   "id": "f8214b8e-ca5d-4e0d-9702-4ce6abf3f56d",
   "metadata": {},
   "outputs": [
    {
     "name": "stdout",
     "output_type": "stream",
     "text": [
      "Image size: 300 x 300\n"
     ]
    }
   ],
   "source": [
    "width, height = sample_img.size\n",
    "print('Image size: {} x {}'.format(width, height))"
   ]
  },
  {
   "cell_type": "code",
   "execution_count": 8,
   "id": "d2eb227a-fa82-4693-87c3-73ad6e23b24f",
   "metadata": {},
   "outputs": [],
   "source": [
    "train_dir = 'dataset/train'\n",
    "validation_dir = 'dataset/validation'\n",
    "train_dir_R = 'dataset/train/R'\n",
    "validation_dir_R = 'dataset/validation/R'\n",
    "train_dir_T = 'dataset/train/T'\n",
    "validation_dir_T = 'dataset/validation/T'\n",
    "validation_split = 0.2"
   ]
  },
  {
   "cell_type": "code",
   "execution_count": 20,
   "id": "877b54f7-ed83-4743-a02a-dbaba4136ade",
   "metadata": {},
   "outputs": [],
   "source": [
    "os.makedirs(train_dir, exist_ok=True)\n",
    "os.makedirs(validation_dir, exist_ok=True)\n",
    "os.makedirs(train_dir_R, exist_ok=True)\n",
    "os.makedirs(validation_dir_R, exist_ok=True)\n",
    "os.makedirs(train_dir_T, exist_ok=True)\n",
    "os.makedirs(validation_dir_T, exist_ok=True)"
   ]
  },
  {
   "cell_type": "code",
   "execution_count": 9,
   "id": "6f175b45-52e4-40d6-8c3d-a639c3b50792",
   "metadata": {},
   "outputs": [
    {
     "name": "stdout",
     "output_type": "stream",
     "text": [
      "220\n"
     ]
    }
   ],
   "source": [
    "num_validation_R = int(num_R_imgs * validation_split)\n",
    "print(num_validation_R)"
   ]
  },
  {
   "cell_type": "code",
   "execution_count": 22,
   "id": "9fc7f1c0-65f0-49ba-876f-6ddb8eb63378",
   "metadata": {},
   "outputs": [],
   "source": [
    "random.shuffle(R_imgs)\n",
    "for i, image_name in enumerate(R_imgs):\n",
    "    if i < num_validation_R:\n",
    "        shutil.copy(os.path.join(R_path, image_name), os.path.join(validation_dir, \"R\", image_name))\n",
    "    else:\n",
    "        shutil.copy(os.path.join(R_path, image_name), os.path.join(train_dir, \"R\", image_name))"
   ]
  },
  {
   "cell_type": "code",
   "execution_count": 10,
   "id": "8db55bfb-f605-4ea1-a147-b992f2185a77",
   "metadata": {},
   "outputs": [
    {
     "name": "stdout",
     "output_type": "stream",
     "text": [
      "80\n"
     ]
    }
   ],
   "source": [
    "num_validation_T = int(num_T_imgs * validation_split)\n",
    "print(num_validation_T)"
   ]
  },
  {
   "cell_type": "code",
   "execution_count": 24,
   "id": "6dce77ad-84a5-48a2-b41c-4cfc2d7b4f47",
   "metadata": {},
   "outputs": [],
   "source": [
    "random.shuffle(T_imgs)\n",
    "for i, image_name in enumerate(T_imgs):\n",
    "    if i < num_validation_T:\n",
    "        shutil.copy(os.path.join(T_path, image_name), os.path.join(validation_dir, \"T\", image_name))\n",
    "    else:\n",
    "        shutil.copy(os.path.join(T_path, image_name), os.path.join(train_dir, \"T\", image_name))"
   ]
  },
  {
   "cell_type": "markdown",
   "id": "0d1db163-18db-4257-9148-a4cb56e95960",
   "metadata": {},
   "source": [
    " "
   ]
  },
  {
   "cell_type": "markdown",
   "id": "4fb330aa-14a8-49ee-a0e8-226a5c7406e9",
   "metadata": {},
   "source": [
    "Image Data Preporcessing"
   ]
  },
  {
   "cell_type": "code",
   "execution_count": 3,
   "id": "f6dfbeda-5d84-4d4b-9674-3f28fc4f8849",
   "metadata": {},
   "outputs": [],
   "source": [
    "img_size = (224, 224)\n",
    "batch_size = 32"
   ]
  },
  {
   "cell_type": "code",
   "execution_count": 4,
   "id": "0bb4ca55-470a-486c-a28e-5c955a740470",
   "metadata": {},
   "outputs": [],
   "source": [
    "train_datagen = ImageDataGenerator(\n",
    "    rescale=1./255,\n",
    "    rotation_range=20,\n",
    "    width_shift_range=0.2,\n",
    "    height_shift_range=0.2,\n",
    "    shear_range=0.2,\n",
    "    zoom_range=0.2,\n",
    "    horizontal_flip=True,\n",
    "    fill_mode='nearest'\n",
    ")"
   ]
  },
  {
   "cell_type": "code",
   "execution_count": 5,
   "id": "9b9d3b4e-81bc-41a6-9401-b2ece3cad893",
   "metadata": {},
   "outputs": [],
   "source": [
    "val_datagen = ImageDataGenerator(rescale=1./255)"
   ]
  },
  {
   "cell_type": "code",
   "execution_count": 9,
   "id": "eb1f289e-6ab0-4396-86cd-38124e5573a8",
   "metadata": {},
   "outputs": [
    {
     "name": "stdout",
     "output_type": "stream",
     "text": [
      "Found 1211 images belonging to 2 classes.\n"
     ]
    }
   ],
   "source": [
    "train_generator = train_datagen.flow_from_directory(\n",
    "    train_dir,\n",
    "    target_size=img_size,\n",
    "    batch_size=batch_size,\n",
    "    class_mode='categorical'\n",
    ")"
   ]
  },
  {
   "cell_type": "code",
   "execution_count": 10,
   "id": "4ab175f4-2fe1-4ac8-a569-138fc5ab5000",
   "metadata": {},
   "outputs": [
    {
     "name": "stdout",
     "output_type": "stream",
     "text": [
      "Found 300 images belonging to 2 classes.\n"
     ]
    }
   ],
   "source": [
    "val_generator = val_datagen.flow_from_directory(\n",
    "    validation_dir,\n",
    "    target_size=img_size,\n",
    "    batch_size=batch_size,\n",
    "    class_mode='categorical'\n",
    ")"
   ]
  },
  {
   "cell_type": "markdown",
   "id": "5f79ac7e-ad32-4431-97b9-9abf24d7d942",
   "metadata": {},
   "source": [
    " "
   ]
  },
  {
   "cell_type": "markdown",
   "id": "658571d8-4f0a-452d-9ad2-2c8a74d95c13",
   "metadata": {},
   "source": [
    "Neural Network Design and Compilation"
   ]
  },
  {
   "cell_type": "code",
   "execution_count": 11,
   "id": "def30fee-5739-4745-9106-c828bcb2a634",
   "metadata": {},
   "outputs": [
    {
     "name": "stderr",
     "output_type": "stream",
     "text": [
      "2023-04-25 20:34:02.355430: I tensorflow/core/platform/cpu_feature_guard.cc:193] This TensorFlow binary is optimized with oneAPI Deep Neural Network Library (oneDNN) to use the following CPU instructions in performance-critical operations:  SSE4.1 SSE4.2\n",
      "To enable them in other operations, rebuild TensorFlow with the appropriate compiler flags.\n"
     ]
    }
   ],
   "source": [
    "cnn_model = Sequential([\n",
    "    Conv2D(32, (3, 3), activation='relu', input_shape=(img_size[0], img_size[1], 3)),\n",
    "    MaxPooling2D((2, 2)),\n",
    "    Conv2D(64, (3, 3), activation='relu'),\n",
    "    MaxPooling2D((2, 2)),\n",
    "    Conv2D(64, (3, 3), activation='relu'),\n",
    "    MaxPooling2D((2, 2)),\n",
    "    Flatten(),\n",
    "    Reshape((-1, 128))\n",
    "    # Dense(128, activation='relu'),\n",
    "    # Dense(2, activation='softmax')\n",
    "])"
   ]
  },
  {
   "cell_type": "code",
   "execution_count": 12,
   "id": "bfb211c5-d0d3-4e4d-ae7f-c41d31336d9f",
   "metadata": {},
   "outputs": [],
   "source": [
    "lstm_model = Sequential()\n",
    "lstm_model.add(LSTM(128))\n",
    "lstm_model.add(Dense(2, activation='softmax'))"
   ]
  },
  {
   "cell_type": "code",
   "execution_count": 13,
   "id": "de5b068a-079b-4c77-bb87-7cb363dead4a",
   "metadata": {},
   "outputs": [],
   "source": [
    "model = Sequential()\n",
    "model.add(cnn_model)\n",
    "model.add(lstm_model)"
   ]
  },
  {
   "cell_type": "markdown",
   "id": "a4312554-ab06-4088-b8fe-cd21cb8c3422",
   "metadata": {},
   "source": [
    " "
   ]
  },
  {
   "cell_type": "markdown",
   "id": "eb878e11-5253-4153-a464-ca18507a1113",
   "metadata": {},
   "source": [
    "Network Model Summary"
   ]
  },
  {
   "cell_type": "code",
   "execution_count": 15,
   "id": "fae25d63-f718-441b-9f67-c5a18d9bf5d1",
   "metadata": {},
   "outputs": [
    {
     "name": "stdout",
     "output_type": "stream",
     "text": [
      "Model: \"sequential\"\n",
      "_________________________________________________________________\n",
      " Layer (type)                Output Shape              Param #   \n",
      "=================================================================\n",
      " conv2d (Conv2D)             (None, 222, 222, 32)      896       \n",
      "                                                                 \n",
      " max_pooling2d (MaxPooling2D  (None, 111, 111, 32)     0         \n",
      " )                                                               \n",
      "                                                                 \n",
      " conv2d_1 (Conv2D)           (None, 109, 109, 64)      18496     \n",
      "                                                                 \n",
      " max_pooling2d_1 (MaxPooling  (None, 54, 54, 64)       0         \n",
      " 2D)                                                             \n",
      "                                                                 \n",
      " conv2d_2 (Conv2D)           (None, 52, 52, 64)        36928     \n",
      "                                                                 \n",
      " max_pooling2d_2 (MaxPooling  (None, 26, 26, 64)       0         \n",
      " 2D)                                                             \n",
      "                                                                 \n",
      " flatten (Flatten)           (None, 43264)             0         \n",
      "                                                                 \n",
      " reshape (Reshape)           (None, 338, 128)          0         \n",
      "                                                                 \n",
      "=================================================================\n",
      "Total params: 56,320\n",
      "Trainable params: 56,320\n",
      "Non-trainable params: 0\n",
      "_________________________________________________________________\n"
     ]
    }
   ],
   "source": [
    "cnn_model.summary()"
   ]
  },
  {
   "cell_type": "code",
   "execution_count": 16,
   "id": "63acfa04-2731-4883-9520-37c1d388003b",
   "metadata": {},
   "outputs": [
    {
     "name": "stdout",
     "output_type": "stream",
     "text": [
      "Model: \"sequential_1\"\n",
      "_________________________________________________________________\n",
      " Layer (type)                Output Shape              Param #   \n",
      "=================================================================\n",
      " lstm (LSTM)                 (None, 128)               131584    \n",
      "                                                                 \n",
      " dense (Dense)               (None, 2)                 258       \n",
      "                                                                 \n",
      "=================================================================\n",
      "Total params: 131,842\n",
      "Trainable params: 131,842\n",
      "Non-trainable params: 0\n",
      "_________________________________________________________________\n"
     ]
    }
   ],
   "source": [
    "lstm_model.summary()"
   ]
  },
  {
   "cell_type": "code",
   "execution_count": 14,
   "id": "36908f66-246e-450e-bea0-cdcc6cd0d926",
   "metadata": {},
   "outputs": [
    {
     "name": "stdout",
     "output_type": "stream",
     "text": [
      "Model: \"sequential_2\"\n",
      "_________________________________________________________________\n",
      " Layer (type)                Output Shape              Param #   \n",
      "=================================================================\n",
      " sequential (Sequential)     (None, 338, 128)          56320     \n",
      "                                                                 \n",
      " sequential_1 (Sequential)   (None, 2)                 131842    \n",
      "                                                                 \n",
      "=================================================================\n",
      "Total params: 188,162\n",
      "Trainable params: 188,162\n",
      "Non-trainable params: 0\n",
      "_________________________________________________________________\n"
     ]
    }
   ],
   "source": [
    "model.summary()"
   ]
  },
  {
   "cell_type": "code",
   "execution_count": 47,
   "id": "c365d1e7-ae1c-4e44-97f5-5c94c04b5a1b",
   "metadata": {},
   "outputs": [],
   "source": [
    "model.compile(optimizer='adam',\n",
    "              loss='categorical_crossentropy',\n",
    "              metrics=['accuracy'])"
   ]
  },
  {
   "cell_type": "markdown",
   "id": "c0bfd493-bfb6-468f-b10a-c79a649e8021",
   "metadata": {},
   "source": [
    " "
   ]
  },
  {
   "cell_type": "markdown",
   "id": "dabd5aaf-293e-4e1c-a279-e5d06a7a6f95",
   "metadata": {},
   "source": [
    "Network Training"
   ]
  },
  {
   "cell_type": "code",
   "execution_count": 48,
   "id": "e53b0fe2-e109-41d6-8b49-f425f1a06340",
   "metadata": {},
   "outputs": [
    {
     "name": "stdout",
     "output_type": "stream",
     "text": [
      "Epoch 1/20\n",
      "38/38 [==============================] - 22s 563ms/step - loss: 0.3609 - accuracy: 0.8300 - val_loss: 0.1718 - val_accuracy: 0.9333\n",
      "Epoch 2/20\n",
      "38/38 [==============================] - 22s 560ms/step - loss: 0.1952 - accuracy: 0.9208 - val_loss: 0.2330 - val_accuracy: 0.9100\n",
      "Epoch 3/20\n",
      "38/38 [==============================] - 22s 561ms/step - loss: 0.1703 - accuracy: 0.9408 - val_loss: 0.2395 - val_accuracy: 0.9267\n",
      "Epoch 4/20\n",
      "38/38 [==============================] - 21s 541ms/step - loss: 0.1550 - accuracy: 0.9308 - val_loss: 0.2897 - val_accuracy: 0.9167\n",
      "Epoch 5/20\n",
      "38/38 [==============================] - 22s 568ms/step - loss: 0.1686 - accuracy: 0.9342 - val_loss: 0.2183 - val_accuracy: 0.9267\n",
      "Epoch 6/20\n",
      "38/38 [==============================] - 21s 546ms/step - loss: 0.1593 - accuracy: 0.9433 - val_loss: 0.1301 - val_accuracy: 0.9600\n",
      "Epoch 7/20\n",
      "38/38 [==============================] - 22s 560ms/step - loss: 0.1914 - accuracy: 0.9133 - val_loss: 0.1249 - val_accuracy: 0.9700\n",
      "Epoch 8/20\n",
      "38/38 [==============================] - 22s 562ms/step - loss: 0.1531 - accuracy: 0.9417 - val_loss: 0.1282 - val_accuracy: 0.9500\n",
      "Epoch 9/20\n",
      "38/38 [==============================] - 22s 562ms/step - loss: 0.1230 - accuracy: 0.9583 - val_loss: 0.1206 - val_accuracy: 0.9733\n",
      "Epoch 10/20\n",
      "38/38 [==============================] - 22s 575ms/step - loss: 0.1423 - accuracy: 0.9442 - val_loss: 0.1119 - val_accuracy: 0.9600\n",
      "Epoch 11/20\n",
      "38/38 [==============================] - 22s 562ms/step - loss: 0.1567 - accuracy: 0.9483 - val_loss: 0.2011 - val_accuracy: 0.9300\n",
      "Epoch 12/20\n",
      "38/38 [==============================] - 22s 558ms/step - loss: 0.1290 - accuracy: 0.9492 - val_loss: 0.1126 - val_accuracy: 0.9667\n",
      "Epoch 13/20\n",
      "38/38 [==============================] - 22s 561ms/step - loss: 0.1151 - accuracy: 0.9500 - val_loss: 0.1449 - val_accuracy: 0.9633\n",
      "Epoch 14/20\n",
      "38/38 [==============================] - 21s 551ms/step - loss: 0.1320 - accuracy: 0.9517 - val_loss: 0.1192 - val_accuracy: 0.9633\n",
      "Epoch 15/20\n",
      "38/38 [==============================] - 21s 545ms/step - loss: 0.1209 - accuracy: 0.9542 - val_loss: 0.0881 - val_accuracy: 0.9733\n",
      "Epoch 16/20\n",
      "38/38 [==============================] - 21s 540ms/step - loss: 0.1073 - accuracy: 0.9542 - val_loss: 0.0724 - val_accuracy: 0.9767\n",
      "Epoch 17/20\n",
      "38/38 [==============================] - 22s 560ms/step - loss: 0.0973 - accuracy: 0.9692 - val_loss: 0.1805 - val_accuracy: 0.9567\n",
      "Epoch 18/20\n",
      "38/38 [==============================] - 21s 549ms/step - loss: 0.1223 - accuracy: 0.9500 - val_loss: 0.1015 - val_accuracy: 0.9667\n",
      "Epoch 19/20\n",
      "38/38 [==============================] - 21s 556ms/step - loss: 0.1064 - accuracy: 0.9608 - val_loss: 0.1305 - val_accuracy: 0.9633\n",
      "Epoch 20/20\n",
      "38/38 [==============================] - 22s 562ms/step - loss: 0.0984 - accuracy: 0.9617 - val_loss: 0.1227 - val_accuracy: 0.9633\n"
     ]
    }
   ],
   "source": [
    "history = model.fit(train_generator,\n",
    "          epochs=20,\n",
    "          validation_data=val_generator)"
   ]
  },
  {
   "cell_type": "markdown",
   "id": "edbc9188-6cd9-460e-8423-d869959bed6f",
   "metadata": {},
   "source": [
    " "
   ]
  },
  {
   "cell_type": "markdown",
   "id": "bda64911-014a-41ae-88d5-dc1f71044ac6",
   "metadata": {},
   "source": [
    "Results"
   ]
  },
  {
   "cell_type": "code",
   "execution_count": 69,
   "id": "3027365c-c059-4d2c-9a23-31b78b8977a1",
   "metadata": {},
   "outputs": [
    {
     "name": "stdout",
     "output_type": "stream",
     "text": [
      "10/10 [==============================] - 1s 134ms/step - loss: 0.1227 - accuracy: 0.9633\n",
      "Validation Accuracy: 0.9633333086967468\n",
      "Validation Loss: 0.12271294742822647\n"
     ]
    }
   ],
   "source": [
    "loss, accuracy = model.evaluate(val_generator)\n",
    "print(\"Validation Accuracy: \" + str(accuracy))\n",
    "print(\"Validation Loss: \" + str(loss))"
   ]
  },
  {
   "cell_type": "code",
   "execution_count": null,
   "id": "e9e65d90-3138-4a2a-a6ea-b77f3ea65684",
   "metadata": {},
   "outputs": [],
   "source": []
  },
  {
   "cell_type": "code",
   "execution_count": 58,
   "id": "949a3ba6-5228-4564-b3d1-ca081e7ad60f",
   "metadata": {},
   "outputs": [
    {
     "name": "stdout",
     "output_type": "stream",
     "text": [
      "10/10 [==============================] - 1s 132ms/step\n"
     ]
    }
   ],
   "source": [
    "y_test = val_generator.classes\n",
    "y_pred = model.predict(val_generator)\n",
    "\n",
    "y_pred = np.argmax(y_pred, axis=1)"
   ]
  },
  {
   "cell_type": "code",
   "execution_count": 50,
   "id": "b9f039c9-6952-4e96-9e1d-108f35da82dc",
   "metadata": {},
   "outputs": [
    {
     "name": "stdout",
     "output_type": "stream",
     "text": [
      "{'loss': [0.3608938753604889, 0.19515743851661682, 0.1703014373779297, 0.15498213469982147, 0.16861175000667572, 0.15927813947200775, 0.19139976799488068, 0.15313096344470978, 0.12295560538768768, 0.14234349131584167, 0.1567363739013672, 0.12902423739433289, 0.11506114900112152, 0.1319696605205536, 0.12087386101484299, 0.1072520837187767, 0.09727870672941208, 0.12234365195035934, 0.10643458366394043, 0.09835471957921982], 'accuracy': [0.8299999833106995, 0.9208333492279053, 0.940833330154419, 0.9308333396911621, 0.934166669845581, 0.9433333277702332, 0.9133333563804626, 0.9416666626930237, 0.9583333134651184, 0.9441666603088379, 0.9483333230018616, 0.9491666555404663, 0.949999988079071, 0.9516666531562805, 0.9541666507720947, 0.9541666507720947, 0.9691666960716248, 0.949999988079071, 0.9608333110809326, 0.9616666436195374], 'val_loss': [0.17175251245498657, 0.2330022156238556, 0.2394600361585617, 0.28969454765319824, 0.21833977103233337, 0.1301264613866806, 0.12485487759113312, 0.12817388772964478, 0.12062877416610718, 0.11186891049146652, 0.20112214982509613, 0.11258123070001602, 0.14493250846862793, 0.11919546872377396, 0.08811415731906891, 0.07236374914646149, 0.18054407835006714, 0.10145891457796097, 0.13047561049461365, 0.12271293997764587], 'val_accuracy': [0.9333333373069763, 0.9100000262260437, 0.9266666769981384, 0.9166666865348816, 0.9266666769981384, 0.9599999785423279, 0.9700000286102295, 0.949999988079071, 0.9733333587646484, 0.9599999785423279, 0.9300000071525574, 0.9666666388511658, 0.9633333086967468, 0.9633333086967468, 0.9733333587646484, 0.9766666889190674, 0.9566666483879089, 0.9666666388511658, 0.9633333086967468, 0.9633333086967468]}\n"
     ]
    }
   ],
   "source": [
    "print(history.history)"
   ]
  },
  {
   "cell_type": "code",
   "execution_count": 51,
   "id": "42a32634-3d43-40cf-afdb-6b203c84b11c",
   "metadata": {},
   "outputs": [
    {
     "data": {
      "text/plain": [
       "<matplotlib.legend.Legend at 0x7fa113ead8b0>"
      ]
     },
     "execution_count": 51,
     "metadata": {},
     "output_type": "execute_result"
    },
    {
     "data": {
      "image/png": "[encoded data removed]",
      "text/plain": [
       "<Figure size 640x480 with 1 Axes>"
      ]
     },
     "metadata": {},
     "output_type": "display_data"
    }
   ],
   "source": [
    "num_epochs = range(1, 21) \n",
    "plt.plot(num_epochs, history.history['accuracy'], label='Training Accuracy')\n",
    "plt.plot(num_epochs, history.history['val_accuracy'], label='Validation Accuracy')\n",
    "plt.title('Training and Validation Accuracy')\n",
    "plt.xlabel('Epochs')\n",
    "plt.ylabel('Accuracy')\n",
    "plt.legend()"
   ]
  },
  {
   "cell_type": "code",
   "execution_count": 52,
   "id": "3a43e2c5-379c-4512-91c1-83d86e58d235",
   "metadata": {},
   "outputs": [
    {
     "data": {
      "text/plain": [
       "<matplotlib.legend.Legend at 0x7fa137872e20>"
      ]
     },
     "execution_count": 52,
     "metadata": {},
     "output_type": "execute_result"
    },
    {
     "data": {
      "image/png": "[encoded data removed]",
      "text/plain": [
       "<Figure size 640x480 with 1 Axes>"
      ]
     },
     "metadata": {},
     "output_type": "display_data"
    }
   ],
   "source": [
    "num_epochs = range(1, 21) \n",
    "plt.plot(num_epochs, history.history['loss'], label='Training Loss')\n",
    "plt.plot(num_epochs, history.history['val_loss'], label='Validation Loss')\n",
    "plt.title('Training and Validation Loss')\n",
    "plt.xlabel('Epochs')\n",
    "plt.ylabel('Loss')\n",
    "plt.legend()"
   ]
  },
  {
   "cell_type": "code",
   "execution_count": 60,
   "id": "06d4d4ac-48bc-4cc5-a024-12e18e3b0b69",
   "metadata": {},
   "outputs": [
    {
     "name": "stdout",
     "output_type": "stream",
     "text": [
      "[[168  52]\n",
      " [ 63  17]]\n"
     ]
    }
   ],
   "source": [
    "from sklearn.metrics import confusion_matrix\n",
    "cm = confusion_matrix(y_test, y_pred)\n",
    "print(cm)"
   ]
  },
  {
   "cell_type": "code",
   "execution_count": 61,
   "id": "3702f2bb-7f6f-408d-ac58-a8e0f8e072a0",
   "metadata": {},
   "outputs": [
    {
     "name": "stdout",
     "output_type": "stream",
     "text": [
      "Normalized Confusion Matrix:\n",
      "[[0.76363636 0.23636364]\n",
      " [0.7875     0.2125    ]]\n"
     ]
    }
   ],
   "source": [
    "cm_norm = cm.astype('float') / cm.sum(axis=1)[:, np.newaxis]\n",
    "print(\"Normalized Confusion Matrix:\")\n",
    "print(cm_norm)"
   ]
  },
  {
   "cell_type": "code",
   "execution_count": 62,
   "id": "bf16bd2e-9608-4974-a2c0-fbd85dd0491e",
   "metadata": {},
   "outputs": [],
   "source": [
    "TP = cm[0, 0]\n",
    "FN = cm[0, 1]\n",
    "FP = cm[1, 0]\n",
    "TN = cm[1, 1]\n",
    "sensitivity = TP / (TP + FN)\n",
    "specificity = TN / (TN + FP)"
   ]
  },
  {
   "cell_type": "code",
   "execution_count": 63,
   "id": "67ca478d-c5cd-4363-8209-1807e0f48911",
   "metadata": {},
   "outputs": [
    {
     "name": "stdout",
     "output_type": "stream",
     "text": [
      "Sensitivity: 0.76\n",
      "Specificity: 0.21\n"
     ]
    }
   ],
   "source": [
    "print(\"Sensitivity: {:.2f}\".format(sensitivity))\n",
    "print(\"Specificity: {:.2f}\".format(specificity))"
   ]
  },
  {
   "cell_type": "code",
   "execution_count": 64,
   "id": "f03f4e96-c306-4120-a368-dd311e5555e4",
   "metadata": {},
   "outputs": [
    {
     "name": "stdout",
     "output_type": "stream",
     "text": [
      "Accuracy: 0.62\n",
      "Precision: 0.73\n"
     ]
    }
   ],
   "source": [
    "accuracy = (cm[0, 0] + cm[1, 1]) / sum(sum(cm))\n",
    "precision = cm[0, 0] / (cm[0, 0] + cm[1, 0])\n",
    "\n",
    "print(\"Accuracy: {:.2f}\".format(accuracy))\n",
    "print(\"Precision: {:.2f}\".format(precision))"
   ]
  },
  {
   "cell_type": "code",
   "execution_count": 70,
   "id": "a14a2410-205d-45c4-9a85-9ae8ecfa70d7",
   "metadata": {},
   "outputs": [],
   "source": [
    "from sklearn.metrics import f1_score"
   ]
  },
  {
   "cell_type": "code",
   "execution_count": 71,
   "id": "df3f6c1c-4f31-4948-b7e6-192cb220de31",
   "metadata": {},
   "outputs": [
    {
     "name": "stdout",
     "output_type": "stream",
     "text": [
      "F1 score: 0.22818791946308725\n"
     ]
    }
   ],
   "source": [
    "f1 = f1_score(y_test, y_pred)\n",
    "print(\"F1 score:\", f1)"
   ]
  }
 ],
 "metadata": {
  "kernelspec": {
   "display_name": "Python 3 (ipykernel)",
   "language": "python",
   "name": "python3"
  },
  "language_info": {
   "codemirror_mode": {
    "name": "ipython",
    "version": 3
   },
   "file_extension": ".py",
   "mimetype": "text/x-python",
   "name": "python",
   "nbconvert_exporter": "python",
   "pygments_lexer": "ipython3",
   "version": "3.9.16"
  }
 },
 "nbformat": 4,
 "nbformat_minor": 5
}
